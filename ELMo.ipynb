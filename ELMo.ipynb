{
 "cells": [
  {
   "cell_type": "markdown",
   "metadata": {},
   "source": [
    "# ELMo embedding with different Neural Networks"
   ]
  },
  {
   "cell_type": "markdown",
   "metadata": {},
   "source": [
    "## Kaggle competition  [Real or Not? NLP with Disaster Tweets](https://www.kaggle.com/c/nlp-getting-started)"
   ]
  },
  {
   "cell_type": "markdown",
   "metadata": {},
   "source": [
    "## Team \"Muy\"\n",
    "### Team members: \n",
    "* **Maslennikova Elizaveta** (kaggle account - @Lizza);\n",
    "* **Korobkov Nikita** (kaggle account - @Nikita Korobkov);\n",
    "* **Korneva Tatyana** (kaggle account - @Tatiana Korneva)."
   ]
  },
  {
   "cell_type": "markdown",
   "metadata": {},
   "source": [
    "Our team decided to apply ELMo embedding with different types of Neural Networks to task's solution."
   ]
  },
  {
   "cell_type": "code",
   "execution_count": 1,
   "metadata": {
    "scrolled": true
   },
   "outputs": [],
   "source": [
    "# ELMo doesn't work with Tensorflow v2 on Mac OS \n",
    "# !pip install tensorflow==1.13.2"
   ]
  },
  {
   "cell_type": "code",
   "execution_count": 1,
   "metadata": {},
   "outputs": [],
   "source": [
    "import warnings\n",
    "warnings.filterwarnings(\"ignore\")"
   ]
  },
  {
   "cell_type": "code",
   "execution_count": 2,
   "metadata": {},
   "outputs": [],
   "source": [
    "import pandas as pd\n",
    "import numpy as np\n",
    "import matplotlib.pyplot as plt\n",
    "\n",
    "import spacy\n",
    "import sys\n",
    "import copy\n",
    "import os\n",
    "\n",
    "%matplotlib inline"
   ]
  },
  {
   "cell_type": "code",
   "execution_count": 3,
   "metadata": {},
   "outputs": [],
   "source": [
    "os.environ['TF_CPP_MIN_LOG_LEVEL'] = '3'"
   ]
  },
  {
   "cell_type": "code",
   "execution_count": 4,
   "metadata": {},
   "outputs": [
    {
     "name": "stderr",
     "output_type": "stream",
     "text": [
      "Using TensorFlow backend.\n"
     ]
    }
   ],
   "source": [
    "import tensorflow as trf\n",
    "import tensorflow_hub as trf_hub\n",
    "\n",
    "import keras.layers as layers\n",
    "from keras import backend\n",
    "from keras.layers import Input, Embedding, Flatten, BatchNormalization, LSTM, Dense, Concatenate, Bidirectional \n",
    "from keras.layers import Conv1D, MaxPooling1D, Dropout, GlobalAveragePooling1D, Reshape, GRU, GlobalMaxPooling1D\n",
    "from keras.models import Model\n",
    "\n",
    "from keras.callbacks import Callback\n",
    "from sklearn.metrics import accuracy_score, log_loss, f1_score"
   ]
  },
  {
   "cell_type": "code",
   "execution_count": 5,
   "metadata": {},
   "outputs": [],
   "source": [
    "sess = trf.Session(config=trf.ConfigProto(log_device_placement=True))\n",
    "backend.set_session(sess)\n",
    "\n",
    "backend.set_learning_phase(1)\n",
    "\n",
    "sess.run(trf.global_variables_initializer())\n",
    "sess.run(trf.tables_initializer())"
   ]
  },
  {
   "cell_type": "code",
   "execution_count": 8,
   "metadata": {
    "scrolled": true
   },
   "outputs": [],
   "source": [
    "# Download model for Spacy library\n",
    "#!python -m spacy download en"
   ]
  },
  {
   "cell_type": "markdown",
   "metadata": {},
   "source": [
    "# Data description"
   ]
  },
  {
   "cell_type": "markdown",
   "metadata": {},
   "source": [
    "Explore input datasets"
   ]
  },
  {
   "cell_type": "code",
   "execution_count": 6,
   "metadata": {},
   "outputs": [
    {
     "data": {
      "text/html": [
       "<div>\n",
       "<style scoped>\n",
       "    .dataframe tbody tr th:only-of-type {\n",
       "        vertical-align: middle;\n",
       "    }\n",
       "\n",
       "    .dataframe tbody tr th {\n",
       "        vertical-align: top;\n",
       "    }\n",
       "\n",
       "    .dataframe thead th {\n",
       "        text-align: right;\n",
       "    }\n",
       "</style>\n",
       "<table border=\"1\" class=\"dataframe\">\n",
       "  <thead>\n",
       "    <tr style=\"text-align: right;\">\n",
       "      <th></th>\n",
       "      <th>id</th>\n",
       "      <th>keyword</th>\n",
       "      <th>location</th>\n",
       "      <th>text</th>\n",
       "      <th>target</th>\n",
       "    </tr>\n",
       "  </thead>\n",
       "  <tbody>\n",
       "    <tr>\n",
       "      <th>0</th>\n",
       "      <td>1</td>\n",
       "      <td>NaN</td>\n",
       "      <td>NaN</td>\n",
       "      <td>Our Deeds are the Reason of this #earthquake M...</td>\n",
       "      <td>1</td>\n",
       "    </tr>\n",
       "    <tr>\n",
       "      <th>1</th>\n",
       "      <td>4</td>\n",
       "      <td>NaN</td>\n",
       "      <td>NaN</td>\n",
       "      <td>Forest fire near La Ronge Sask. Canada</td>\n",
       "      <td>1</td>\n",
       "    </tr>\n",
       "    <tr>\n",
       "      <th>2</th>\n",
       "      <td>5</td>\n",
       "      <td>NaN</td>\n",
       "      <td>NaN</td>\n",
       "      <td>All residents asked to 'shelter in place' are ...</td>\n",
       "      <td>1</td>\n",
       "    </tr>\n",
       "    <tr>\n",
       "      <th>3</th>\n",
       "      <td>6</td>\n",
       "      <td>NaN</td>\n",
       "      <td>NaN</td>\n",
       "      <td>13,000 people receive #wildfires evacuation or...</td>\n",
       "      <td>1</td>\n",
       "    </tr>\n",
       "    <tr>\n",
       "      <th>4</th>\n",
       "      <td>7</td>\n",
       "      <td>NaN</td>\n",
       "      <td>NaN</td>\n",
       "      <td>Just got sent this photo from Ruby #Alaska as ...</td>\n",
       "      <td>1</td>\n",
       "    </tr>\n",
       "    <tr>\n",
       "      <th>5</th>\n",
       "      <td>8</td>\n",
       "      <td>NaN</td>\n",
       "      <td>NaN</td>\n",
       "      <td>#RockyFire Update =&gt; California Hwy. 20 closed...</td>\n",
       "      <td>1</td>\n",
       "    </tr>\n",
       "    <tr>\n",
       "      <th>6</th>\n",
       "      <td>10</td>\n",
       "      <td>NaN</td>\n",
       "      <td>NaN</td>\n",
       "      <td>#flood #disaster Heavy rain causes flash flood...</td>\n",
       "      <td>1</td>\n",
       "    </tr>\n",
       "    <tr>\n",
       "      <th>7</th>\n",
       "      <td>13</td>\n",
       "      <td>NaN</td>\n",
       "      <td>NaN</td>\n",
       "      <td>I'm on top of the hill and I can see a fire in...</td>\n",
       "      <td>1</td>\n",
       "    </tr>\n",
       "    <tr>\n",
       "      <th>8</th>\n",
       "      <td>14</td>\n",
       "      <td>NaN</td>\n",
       "      <td>NaN</td>\n",
       "      <td>There's an emergency evacuation happening now ...</td>\n",
       "      <td>1</td>\n",
       "    </tr>\n",
       "    <tr>\n",
       "      <th>9</th>\n",
       "      <td>15</td>\n",
       "      <td>NaN</td>\n",
       "      <td>NaN</td>\n",
       "      <td>I'm afraid that the tornado is coming to our a...</td>\n",
       "      <td>1</td>\n",
       "    </tr>\n",
       "  </tbody>\n",
       "</table>\n",
       "</div>"
      ],
      "text/plain": [
       "   id keyword location                                               text  \\\n",
       "0   1     NaN      NaN  Our Deeds are the Reason of this #earthquake M...   \n",
       "1   4     NaN      NaN             Forest fire near La Ronge Sask. Canada   \n",
       "2   5     NaN      NaN  All residents asked to 'shelter in place' are ...   \n",
       "3   6     NaN      NaN  13,000 people receive #wildfires evacuation or...   \n",
       "4   7     NaN      NaN  Just got sent this photo from Ruby #Alaska as ...   \n",
       "5   8     NaN      NaN  #RockyFire Update => California Hwy. 20 closed...   \n",
       "6  10     NaN      NaN  #flood #disaster Heavy rain causes flash flood...   \n",
       "7  13     NaN      NaN  I'm on top of the hill and I can see a fire in...   \n",
       "8  14     NaN      NaN  There's an emergency evacuation happening now ...   \n",
       "9  15     NaN      NaN  I'm afraid that the tornado is coming to our a...   \n",
       "\n",
       "   target  \n",
       "0       1  \n",
       "1       1  \n",
       "2       1  \n",
       "3       1  \n",
       "4       1  \n",
       "5       1  \n",
       "6       1  \n",
       "7       1  \n",
       "8       1  \n",
       "9       1  "
      ]
     },
     "execution_count": 6,
     "metadata": {},
     "output_type": "execute_result"
    }
   ],
   "source": [
    "train_data = pd.read_csv('data/train.csv')\n",
    "train_data.head(10)"
   ]
  },
  {
   "cell_type": "code",
   "execution_count": 7,
   "metadata": {},
   "outputs": [
    {
     "data": {
      "text/plain": [
       "(7613, 5)"
      ]
     },
     "execution_count": 7,
     "metadata": {},
     "output_type": "execute_result"
    }
   ],
   "source": [
    "train_data.shape"
   ]
  },
  {
   "cell_type": "code",
   "execution_count": 8,
   "metadata": {},
   "outputs": [
    {
     "data": {
      "text/html": [
       "<div>\n",
       "<style scoped>\n",
       "    .dataframe tbody tr th:only-of-type {\n",
       "        vertical-align: middle;\n",
       "    }\n",
       "\n",
       "    .dataframe tbody tr th {\n",
       "        vertical-align: top;\n",
       "    }\n",
       "\n",
       "    .dataframe thead th {\n",
       "        text-align: right;\n",
       "    }\n",
       "</style>\n",
       "<table border=\"1\" class=\"dataframe\">\n",
       "  <thead>\n",
       "    <tr style=\"text-align: right;\">\n",
       "      <th></th>\n",
       "      <th>id</th>\n",
       "      <th>target</th>\n",
       "    </tr>\n",
       "  </thead>\n",
       "  <tbody>\n",
       "    <tr>\n",
       "      <th>count</th>\n",
       "      <td>7613.000000</td>\n",
       "      <td>7613.00000</td>\n",
       "    </tr>\n",
       "    <tr>\n",
       "      <th>mean</th>\n",
       "      <td>5441.934848</td>\n",
       "      <td>0.42966</td>\n",
       "    </tr>\n",
       "    <tr>\n",
       "      <th>std</th>\n",
       "      <td>3137.116090</td>\n",
       "      <td>0.49506</td>\n",
       "    </tr>\n",
       "    <tr>\n",
       "      <th>min</th>\n",
       "      <td>1.000000</td>\n",
       "      <td>0.00000</td>\n",
       "    </tr>\n",
       "    <tr>\n",
       "      <th>25%</th>\n",
       "      <td>2734.000000</td>\n",
       "      <td>0.00000</td>\n",
       "    </tr>\n",
       "    <tr>\n",
       "      <th>50%</th>\n",
       "      <td>5408.000000</td>\n",
       "      <td>0.00000</td>\n",
       "    </tr>\n",
       "    <tr>\n",
       "      <th>75%</th>\n",
       "      <td>8146.000000</td>\n",
       "      <td>1.00000</td>\n",
       "    </tr>\n",
       "    <tr>\n",
       "      <th>max</th>\n",
       "      <td>10873.000000</td>\n",
       "      <td>1.00000</td>\n",
       "    </tr>\n",
       "  </tbody>\n",
       "</table>\n",
       "</div>"
      ],
      "text/plain": [
       "                 id      target\n",
       "count   7613.000000  7613.00000\n",
       "mean    5441.934848     0.42966\n",
       "std     3137.116090     0.49506\n",
       "min        1.000000     0.00000\n",
       "25%     2734.000000     0.00000\n",
       "50%     5408.000000     0.00000\n",
       "75%     8146.000000     1.00000\n",
       "max    10873.000000     1.00000"
      ]
     },
     "execution_count": 8,
     "metadata": {},
     "output_type": "execute_result"
    }
   ],
   "source": [
    "train_data.describe(include=[np.number])"
   ]
  },
  {
   "cell_type": "code",
   "execution_count": 9,
   "metadata": {},
   "outputs": [
    {
     "data": {
      "text/html": [
       "<div>\n",
       "<style scoped>\n",
       "    .dataframe tbody tr th:only-of-type {\n",
       "        vertical-align: middle;\n",
       "    }\n",
       "\n",
       "    .dataframe tbody tr th {\n",
       "        vertical-align: top;\n",
       "    }\n",
       "\n",
       "    .dataframe thead th {\n",
       "        text-align: right;\n",
       "    }\n",
       "</style>\n",
       "<table border=\"1\" class=\"dataframe\">\n",
       "  <thead>\n",
       "    <tr style=\"text-align: right;\">\n",
       "      <th></th>\n",
       "      <th>keyword</th>\n",
       "      <th>location</th>\n",
       "      <th>text</th>\n",
       "    </tr>\n",
       "  </thead>\n",
       "  <tbody>\n",
       "    <tr>\n",
       "      <th>count</th>\n",
       "      <td>7552</td>\n",
       "      <td>5080</td>\n",
       "      <td>7613</td>\n",
       "    </tr>\n",
       "    <tr>\n",
       "      <th>unique</th>\n",
       "      <td>221</td>\n",
       "      <td>3341</td>\n",
       "      <td>7503</td>\n",
       "    </tr>\n",
       "    <tr>\n",
       "      <th>top</th>\n",
       "      <td>fatalities</td>\n",
       "      <td>USA</td>\n",
       "      <td>11-Year-Old Boy Charged With Manslaughter of T...</td>\n",
       "    </tr>\n",
       "    <tr>\n",
       "      <th>freq</th>\n",
       "      <td>45</td>\n",
       "      <td>104</td>\n",
       "      <td>10</td>\n",
       "    </tr>\n",
       "  </tbody>\n",
       "</table>\n",
       "</div>"
      ],
      "text/plain": [
       "           keyword location                                               text\n",
       "count         7552     5080                                               7613\n",
       "unique         221     3341                                               7503\n",
       "top     fatalities      USA  11-Year-Old Boy Charged With Manslaughter of T...\n",
       "freq            45      104                                                 10"
      ]
     },
     "execution_count": 9,
     "metadata": {},
     "output_type": "execute_result"
    }
   ],
   "source": [
    "train_data.describe(include=[np.object])"
   ]
  },
  {
   "cell_type": "markdown",
   "metadata": {},
   "source": [
    "As you can see, columns **'keyword'** and **'location'** have missed value. We fill them with special value **'Unset'**"
   ]
  },
  {
   "cell_type": "code",
   "execution_count": 10,
   "metadata": {},
   "outputs": [],
   "source": [
    "train_data['keyword'] = train_data['keyword'].fillna('Unset', axis = 0)\n",
    "train_data['location'] = train_data['location'].fillna('Unset', axis = 0)"
   ]
  },
  {
   "cell_type": "code",
   "execution_count": 11,
   "metadata": {},
   "outputs": [
    {
     "data": {
      "text/html": [
       "<div>\n",
       "<style scoped>\n",
       "    .dataframe tbody tr th:only-of-type {\n",
       "        vertical-align: middle;\n",
       "    }\n",
       "\n",
       "    .dataframe tbody tr th {\n",
       "        vertical-align: top;\n",
       "    }\n",
       "\n",
       "    .dataframe thead th {\n",
       "        text-align: right;\n",
       "    }\n",
       "</style>\n",
       "<table border=\"1\" class=\"dataframe\">\n",
       "  <thead>\n",
       "    <tr style=\"text-align: right;\">\n",
       "      <th></th>\n",
       "      <th>id</th>\n",
       "      <th>keyword</th>\n",
       "      <th>location</th>\n",
       "      <th>text</th>\n",
       "      <th>target</th>\n",
       "    </tr>\n",
       "  </thead>\n",
       "  <tbody>\n",
       "    <tr>\n",
       "      <th>0</th>\n",
       "      <td>1</td>\n",
       "      <td>Unset</td>\n",
       "      <td>Unset</td>\n",
       "      <td>Our Deeds are the Reason of this #earthquake M...</td>\n",
       "      <td>1</td>\n",
       "    </tr>\n",
       "    <tr>\n",
       "      <th>1</th>\n",
       "      <td>4</td>\n",
       "      <td>Unset</td>\n",
       "      <td>Unset</td>\n",
       "      <td>Forest fire near La Ronge Sask. Canada</td>\n",
       "      <td>1</td>\n",
       "    </tr>\n",
       "    <tr>\n",
       "      <th>2</th>\n",
       "      <td>5</td>\n",
       "      <td>Unset</td>\n",
       "      <td>Unset</td>\n",
       "      <td>All residents asked to 'shelter in place' are ...</td>\n",
       "      <td>1</td>\n",
       "    </tr>\n",
       "    <tr>\n",
       "      <th>3</th>\n",
       "      <td>6</td>\n",
       "      <td>Unset</td>\n",
       "      <td>Unset</td>\n",
       "      <td>13,000 people receive #wildfires evacuation or...</td>\n",
       "      <td>1</td>\n",
       "    </tr>\n",
       "    <tr>\n",
       "      <th>4</th>\n",
       "      <td>7</td>\n",
       "      <td>Unset</td>\n",
       "      <td>Unset</td>\n",
       "      <td>Just got sent this photo from Ruby #Alaska as ...</td>\n",
       "      <td>1</td>\n",
       "    </tr>\n",
       "  </tbody>\n",
       "</table>\n",
       "</div>"
      ],
      "text/plain": [
       "   id keyword location                                               text  \\\n",
       "0   1   Unset    Unset  Our Deeds are the Reason of this #earthquake M...   \n",
       "1   4   Unset    Unset             Forest fire near La Ronge Sask. Canada   \n",
       "2   5   Unset    Unset  All residents asked to 'shelter in place' are ...   \n",
       "3   6   Unset    Unset  13,000 people receive #wildfires evacuation or...   \n",
       "4   7   Unset    Unset  Just got sent this photo from Ruby #Alaska as ...   \n",
       "\n",
       "   target  \n",
       "0       1  \n",
       "1       1  \n",
       "2       1  \n",
       "3       1  \n",
       "4       1  "
      ]
     },
     "execution_count": 11,
     "metadata": {},
     "output_type": "execute_result"
    }
   ],
   "source": [
    "train_data.head()"
   ]
  },
  {
   "cell_type": "code",
   "execution_count": 12,
   "metadata": {},
   "outputs": [
    {
     "data": {
      "text/html": [
       "<div>\n",
       "<style scoped>\n",
       "    .dataframe tbody tr th:only-of-type {\n",
       "        vertical-align: middle;\n",
       "    }\n",
       "\n",
       "    .dataframe tbody tr th {\n",
       "        vertical-align: top;\n",
       "    }\n",
       "\n",
       "    .dataframe thead th {\n",
       "        text-align: right;\n",
       "    }\n",
       "</style>\n",
       "<table border=\"1\" class=\"dataframe\">\n",
       "  <thead>\n",
       "    <tr style=\"text-align: right;\">\n",
       "      <th></th>\n",
       "      <th>keyword</th>\n",
       "      <th>location</th>\n",
       "      <th>text</th>\n",
       "    </tr>\n",
       "  </thead>\n",
       "  <tbody>\n",
       "    <tr>\n",
       "      <th>count</th>\n",
       "      <td>7613</td>\n",
       "      <td>7613</td>\n",
       "      <td>7613</td>\n",
       "    </tr>\n",
       "    <tr>\n",
       "      <th>unique</th>\n",
       "      <td>222</td>\n",
       "      <td>3342</td>\n",
       "      <td>7503</td>\n",
       "    </tr>\n",
       "    <tr>\n",
       "      <th>top</th>\n",
       "      <td>Unset</td>\n",
       "      <td>Unset</td>\n",
       "      <td>11-Year-Old Boy Charged With Manslaughter of T...</td>\n",
       "    </tr>\n",
       "    <tr>\n",
       "      <th>freq</th>\n",
       "      <td>61</td>\n",
       "      <td>2533</td>\n",
       "      <td>10</td>\n",
       "    </tr>\n",
       "  </tbody>\n",
       "</table>\n",
       "</div>"
      ],
      "text/plain": [
       "       keyword location                                               text\n",
       "count     7613     7613                                               7613\n",
       "unique     222     3342                                               7503\n",
       "top      Unset    Unset  11-Year-Old Boy Charged With Manslaughter of T...\n",
       "freq        61     2533                                                 10"
      ]
     },
     "execution_count": 12,
     "metadata": {},
     "output_type": "execute_result"
    }
   ],
   "source": [
    "train_data.describe(include=[np.object])"
   ]
  },
  {
   "cell_type": "markdown",
   "metadata": {},
   "source": [
    "Explore balance of classes in train set."
   ]
  },
  {
   "cell_type": "code",
   "execution_count": 13,
   "metadata": {},
   "outputs": [
    {
     "data": {
      "image/png": "[encoded data removed]",
      "text/plain": [
       "<Figure size 504x360 with 1 Axes>"
      ]
     },
     "metadata": {
      "needs_background": "light"
     },
     "output_type": "display_data"
    }
   ],
   "source": [
    "real_num = train_data[train_data['target'] == 1].shape[0]\n",
    "fake_num = train_data[train_data['target'] == 0].shape[0]\n",
    "\n",
    "plt.figure(figsize = (7, 5))\n",
    "\n",
    "labels = [\"Real\", \"Fake\"]\n",
    "x = np.arange(len(labels))\n",
    "\n",
    "plt.bar(x, [real_num, fake_num])\n",
    "plt.xticks(x, labels)\n",
    "plt.xlabel('Target')\n",
    "plt.ylabel('Number of examples')\n",
    "plt.title('Distribution of target classes')\n",
    "plt.show()"
   ]
  },
  {
   "cell_type": "markdown",
   "metadata": {},
   "source": [
    "Dataset is balanced!"
   ]
  },
  {
   "cell_type": "markdown",
   "metadata": {},
   "source": [
    "Explore length of tweets in train set."
   ]
  },
  {
   "cell_type": "code",
   "execution_count": 14,
   "metadata": {},
   "outputs": [],
   "source": [
    "disaster_len = [len(i) for i in train_data[train_data['target'] == 1]['text']]\n",
    "fake_len = [len(i) for i in train_data[train_data['target'] == 0]['text']]"
   ]
  },
  {
   "cell_type": "code",
   "execution_count": 15,
   "metadata": {},
   "outputs": [
    {
     "name": "stdout",
     "output_type": "stream",
     "text": [
      "Max length of disaster tweets: 151\n",
      "Max length of fake tweets: 157\n"
     ]
    }
   ],
   "source": [
    "print(\"Max length of disaster tweets:\", max(disaster_len))\n",
    "print(\"Max length of fake tweets:\", max(fake_len))"
   ]
  },
  {
   "cell_type": "code",
   "execution_count": 16,
   "metadata": {},
   "outputs": [
    {
     "data": {
      "image/png": "[encoded data removed]",
      "text/plain": [
       "<Figure size 432x288 with 1 Axes>"
      ]
     },
     "metadata": {
      "needs_background": "light"
     },
     "output_type": "display_data"
    }
   ],
   "source": [
    "plt.hist(disaster_len, 10, facecolor='blue', edgecolor='black', linewidth=1.2)\n",
    "plt.xlabel('Text lenght')\n",
    "plt.ylabel('Number of examples')\n",
    "plt.title('Distribution of text\\'s lenghts for disaster')\n",
    "plt.show()"
   ]
  },
  {
   "cell_type": "code",
   "execution_count": 17,
   "metadata": {},
   "outputs": [
    {
     "data": {
      "image/png": "[encoded data removed]",
      "text/plain": [
       "<Figure size 432x288 with 1 Axes>"
      ]
     },
     "metadata": {
      "needs_background": "light"
     },
     "output_type": "display_data"
    }
   ],
   "source": [
    "plt.hist(fake_len, 10, facecolor='red', edgecolor='black', linewidth=1.2)\n",
    "plt.xlabel('Text lenght')\n",
    "plt.ylabel('Number of examples')\n",
    "plt.title('Distribution of text\\'s lenghts for fake')\n",
    "plt.show()"
   ]
  },
  {
   "cell_type": "markdown",
   "metadata": {},
   "source": [
    "#### Let's do similar actions for test dataset:"
   ]
  },
  {
   "cell_type": "code",
   "execution_count": 18,
   "metadata": {},
   "outputs": [
    {
     "data": {
      "text/html": [
       "<div>\n",
       "<style scoped>\n",
       "    .dataframe tbody tr th:only-of-type {\n",
       "        vertical-align: middle;\n",
       "    }\n",
       "\n",
       "    .dataframe tbody tr th {\n",
       "        vertical-align: top;\n",
       "    }\n",
       "\n",
       "    .dataframe thead th {\n",
       "        text-align: right;\n",
       "    }\n",
       "</style>\n",
       "<table border=\"1\" class=\"dataframe\">\n",
       "  <thead>\n",
       "    <tr style=\"text-align: right;\">\n",
       "      <th></th>\n",
       "      <th>id</th>\n",
       "      <th>keyword</th>\n",
       "      <th>location</th>\n",
       "      <th>text</th>\n",
       "    </tr>\n",
       "  </thead>\n",
       "  <tbody>\n",
       "    <tr>\n",
       "      <th>0</th>\n",
       "      <td>0</td>\n",
       "      <td>NaN</td>\n",
       "      <td>NaN</td>\n",
       "      <td>Just happened a terrible car crash</td>\n",
       "    </tr>\n",
       "    <tr>\n",
       "      <th>1</th>\n",
       "      <td>2</td>\n",
       "      <td>NaN</td>\n",
       "      <td>NaN</td>\n",
       "      <td>Heard about #earthquake is different cities, s...</td>\n",
       "    </tr>\n",
       "    <tr>\n",
       "      <th>2</th>\n",
       "      <td>3</td>\n",
       "      <td>NaN</td>\n",
       "      <td>NaN</td>\n",
       "      <td>there is a forest fire at spot pond, geese are...</td>\n",
       "    </tr>\n",
       "    <tr>\n",
       "      <th>3</th>\n",
       "      <td>9</td>\n",
       "      <td>NaN</td>\n",
       "      <td>NaN</td>\n",
       "      <td>Apocalypse lighting. #Spokane #wildfires</td>\n",
       "    </tr>\n",
       "    <tr>\n",
       "      <th>4</th>\n",
       "      <td>11</td>\n",
       "      <td>NaN</td>\n",
       "      <td>NaN</td>\n",
       "      <td>Typhoon Soudelor kills 28 in China and Taiwan</td>\n",
       "    </tr>\n",
       "    <tr>\n",
       "      <th>5</th>\n",
       "      <td>12</td>\n",
       "      <td>NaN</td>\n",
       "      <td>NaN</td>\n",
       "      <td>We're shaking...It's an earthquake</td>\n",
       "    </tr>\n",
       "    <tr>\n",
       "      <th>6</th>\n",
       "      <td>21</td>\n",
       "      <td>NaN</td>\n",
       "      <td>NaN</td>\n",
       "      <td>They'd probably still show more life than Arse...</td>\n",
       "    </tr>\n",
       "    <tr>\n",
       "      <th>7</th>\n",
       "      <td>22</td>\n",
       "      <td>NaN</td>\n",
       "      <td>NaN</td>\n",
       "      <td>Hey! How are you?</td>\n",
       "    </tr>\n",
       "    <tr>\n",
       "      <th>8</th>\n",
       "      <td>27</td>\n",
       "      <td>NaN</td>\n",
       "      <td>NaN</td>\n",
       "      <td>What a nice hat?</td>\n",
       "    </tr>\n",
       "    <tr>\n",
       "      <th>9</th>\n",
       "      <td>29</td>\n",
       "      <td>NaN</td>\n",
       "      <td>NaN</td>\n",
       "      <td>Fuck off!</td>\n",
       "    </tr>\n",
       "  </tbody>\n",
       "</table>\n",
       "</div>"
      ],
      "text/plain": [
       "   id keyword location                                               text\n",
       "0   0     NaN      NaN                 Just happened a terrible car crash\n",
       "1   2     NaN      NaN  Heard about #earthquake is different cities, s...\n",
       "2   3     NaN      NaN  there is a forest fire at spot pond, geese are...\n",
       "3   9     NaN      NaN           Apocalypse lighting. #Spokane #wildfires\n",
       "4  11     NaN      NaN      Typhoon Soudelor kills 28 in China and Taiwan\n",
       "5  12     NaN      NaN                 We're shaking...It's an earthquake\n",
       "6  21     NaN      NaN  They'd probably still show more life than Arse...\n",
       "7  22     NaN      NaN                                  Hey! How are you?\n",
       "8  27     NaN      NaN                                   What a nice hat?\n",
       "9  29     NaN      NaN                                          Fuck off!"
      ]
     },
     "execution_count": 18,
     "metadata": {},
     "output_type": "execute_result"
    }
   ],
   "source": [
    "test_data = pd.read_csv('data/test.csv')\n",
    "test_data.head(10)"
   ]
  },
  {
   "cell_type": "code",
   "execution_count": 19,
   "metadata": {},
   "outputs": [
    {
     "data": {
      "text/plain": [
       "(3263, 4)"
      ]
     },
     "execution_count": 19,
     "metadata": {},
     "output_type": "execute_result"
    }
   ],
   "source": [
    "test_data.shape"
   ]
  },
  {
   "cell_type": "code",
   "execution_count": 20,
   "metadata": {},
   "outputs": [
    {
     "data": {
      "text/html": [
       "<div>\n",
       "<style scoped>\n",
       "    .dataframe tbody tr th:only-of-type {\n",
       "        vertical-align: middle;\n",
       "    }\n",
       "\n",
       "    .dataframe tbody tr th {\n",
       "        vertical-align: top;\n",
       "    }\n",
       "\n",
       "    .dataframe thead th {\n",
       "        text-align: right;\n",
       "    }\n",
       "</style>\n",
       "<table border=\"1\" class=\"dataframe\">\n",
       "  <thead>\n",
       "    <tr style=\"text-align: right;\">\n",
       "      <th></th>\n",
       "      <th>id</th>\n",
       "    </tr>\n",
       "  </thead>\n",
       "  <tbody>\n",
       "    <tr>\n",
       "      <th>count</th>\n",
       "      <td>3263.000000</td>\n",
       "    </tr>\n",
       "    <tr>\n",
       "      <th>mean</th>\n",
       "      <td>5427.152927</td>\n",
       "    </tr>\n",
       "    <tr>\n",
       "      <th>std</th>\n",
       "      <td>3146.427221</td>\n",
       "    </tr>\n",
       "    <tr>\n",
       "      <th>min</th>\n",
       "      <td>0.000000</td>\n",
       "    </tr>\n",
       "    <tr>\n",
       "      <th>25%</th>\n",
       "      <td>2683.000000</td>\n",
       "    </tr>\n",
       "    <tr>\n",
       "      <th>50%</th>\n",
       "      <td>5500.000000</td>\n",
       "    </tr>\n",
       "    <tr>\n",
       "      <th>75%</th>\n",
       "      <td>8176.000000</td>\n",
       "    </tr>\n",
       "    <tr>\n",
       "      <th>max</th>\n",
       "      <td>10875.000000</td>\n",
       "    </tr>\n",
       "  </tbody>\n",
       "</table>\n",
       "</div>"
      ],
      "text/plain": [
       "                 id\n",
       "count   3263.000000\n",
       "mean    5427.152927\n",
       "std     3146.427221\n",
       "min        0.000000\n",
       "25%     2683.000000\n",
       "50%     5500.000000\n",
       "75%     8176.000000\n",
       "max    10875.000000"
      ]
     },
     "execution_count": 20,
     "metadata": {},
     "output_type": "execute_result"
    }
   ],
   "source": [
    "test_data.describe(include=[np.number])"
   ]
  },
  {
   "cell_type": "code",
   "execution_count": 21,
   "metadata": {},
   "outputs": [
    {
     "data": {
      "text/html": [
       "<div>\n",
       "<style scoped>\n",
       "    .dataframe tbody tr th:only-of-type {\n",
       "        vertical-align: middle;\n",
       "    }\n",
       "\n",
       "    .dataframe tbody tr th {\n",
       "        vertical-align: top;\n",
       "    }\n",
       "\n",
       "    .dataframe thead th {\n",
       "        text-align: right;\n",
       "    }\n",
       "</style>\n",
       "<table border=\"1\" class=\"dataframe\">\n",
       "  <thead>\n",
       "    <tr style=\"text-align: right;\">\n",
       "      <th></th>\n",
       "      <th>keyword</th>\n",
       "      <th>location</th>\n",
       "      <th>text</th>\n",
       "    </tr>\n",
       "  </thead>\n",
       "  <tbody>\n",
       "    <tr>\n",
       "      <th>count</th>\n",
       "      <td>3237</td>\n",
       "      <td>2158</td>\n",
       "      <td>3263</td>\n",
       "    </tr>\n",
       "    <tr>\n",
       "      <th>unique</th>\n",
       "      <td>221</td>\n",
       "      <td>1602</td>\n",
       "      <td>3243</td>\n",
       "    </tr>\n",
       "    <tr>\n",
       "      <th>top</th>\n",
       "      <td>deluged</td>\n",
       "      <td>New York</td>\n",
       "      <td>11-Year-Old Boy Charged With Manslaughter of T...</td>\n",
       "    </tr>\n",
       "    <tr>\n",
       "      <th>freq</th>\n",
       "      <td>23</td>\n",
       "      <td>38</td>\n",
       "      <td>3</td>\n",
       "    </tr>\n",
       "  </tbody>\n",
       "</table>\n",
       "</div>"
      ],
      "text/plain": [
       "        keyword  location                                               text\n",
       "count      3237      2158                                               3263\n",
       "unique      221      1602                                               3243\n",
       "top     deluged  New York  11-Year-Old Boy Charged With Manslaughter of T...\n",
       "freq         23        38                                                  3"
      ]
     },
     "execution_count": 21,
     "metadata": {},
     "output_type": "execute_result"
    }
   ],
   "source": [
    "test_data.describe(include=[np.object])"
   ]
  },
  {
   "cell_type": "code",
   "execution_count": 22,
   "metadata": {},
   "outputs": [],
   "source": [
    "test_data['keyword'] = test_data['keyword'].fillna('Unset', axis = 0)\n",
    "test_data['location'] = test_data['location'].fillna('Unset', axis = 0)"
   ]
  },
  {
   "cell_type": "code",
   "execution_count": 23,
   "metadata": {},
   "outputs": [
    {
     "data": {
      "text/html": [
       "<div>\n",
       "<style scoped>\n",
       "    .dataframe tbody tr th:only-of-type {\n",
       "        vertical-align: middle;\n",
       "    }\n",
       "\n",
       "    .dataframe tbody tr th {\n",
       "        vertical-align: top;\n",
       "    }\n",
       "\n",
       "    .dataframe thead th {\n",
       "        text-align: right;\n",
       "    }\n",
       "</style>\n",
       "<table border=\"1\" class=\"dataframe\">\n",
       "  <thead>\n",
       "    <tr style=\"text-align: right;\">\n",
       "      <th></th>\n",
       "      <th>id</th>\n",
       "      <th>keyword</th>\n",
       "      <th>location</th>\n",
       "      <th>text</th>\n",
       "    </tr>\n",
       "  </thead>\n",
       "  <tbody>\n",
       "    <tr>\n",
       "      <th>0</th>\n",
       "      <td>0</td>\n",
       "      <td>Unset</td>\n",
       "      <td>Unset</td>\n",
       "      <td>Just happened a terrible car crash</td>\n",
       "    </tr>\n",
       "    <tr>\n",
       "      <th>1</th>\n",
       "      <td>2</td>\n",
       "      <td>Unset</td>\n",
       "      <td>Unset</td>\n",
       "      <td>Heard about #earthquake is different cities, s...</td>\n",
       "    </tr>\n",
       "    <tr>\n",
       "      <th>2</th>\n",
       "      <td>3</td>\n",
       "      <td>Unset</td>\n",
       "      <td>Unset</td>\n",
       "      <td>there is a forest fire at spot pond, geese are...</td>\n",
       "    </tr>\n",
       "    <tr>\n",
       "      <th>3</th>\n",
       "      <td>9</td>\n",
       "      <td>Unset</td>\n",
       "      <td>Unset</td>\n",
       "      <td>Apocalypse lighting. #Spokane #wildfires</td>\n",
       "    </tr>\n",
       "    <tr>\n",
       "      <th>4</th>\n",
       "      <td>11</td>\n",
       "      <td>Unset</td>\n",
       "      <td>Unset</td>\n",
       "      <td>Typhoon Soudelor kills 28 in China and Taiwan</td>\n",
       "    </tr>\n",
       "  </tbody>\n",
       "</table>\n",
       "</div>"
      ],
      "text/plain": [
       "   id keyword location                                               text\n",
       "0   0   Unset    Unset                 Just happened a terrible car crash\n",
       "1   2   Unset    Unset  Heard about #earthquake is different cities, s...\n",
       "2   3   Unset    Unset  there is a forest fire at spot pond, geese are...\n",
       "3   9   Unset    Unset           Apocalypse lighting. #Spokane #wildfires\n",
       "4  11   Unset    Unset      Typhoon Soudelor kills 28 in China and Taiwan"
      ]
     },
     "execution_count": 23,
     "metadata": {},
     "output_type": "execute_result"
    }
   ],
   "source": [
    "test_data.head()"
   ]
  },
  {
   "cell_type": "code",
   "execution_count": 24,
   "metadata": {},
   "outputs": [
    {
     "data": {
      "text/html": [
       "<div>\n",
       "<style scoped>\n",
       "    .dataframe tbody tr th:only-of-type {\n",
       "        vertical-align: middle;\n",
       "    }\n",
       "\n",
       "    .dataframe tbody tr th {\n",
       "        vertical-align: top;\n",
       "    }\n",
       "\n",
       "    .dataframe thead th {\n",
       "        text-align: right;\n",
       "    }\n",
       "</style>\n",
       "<table border=\"1\" class=\"dataframe\">\n",
       "  <thead>\n",
       "    <tr style=\"text-align: right;\">\n",
       "      <th></th>\n",
       "      <th>keyword</th>\n",
       "      <th>location</th>\n",
       "      <th>text</th>\n",
       "    </tr>\n",
       "  </thead>\n",
       "  <tbody>\n",
       "    <tr>\n",
       "      <th>count</th>\n",
       "      <td>3263</td>\n",
       "      <td>3263</td>\n",
       "      <td>3263</td>\n",
       "    </tr>\n",
       "    <tr>\n",
       "      <th>unique</th>\n",
       "      <td>222</td>\n",
       "      <td>1603</td>\n",
       "      <td>3243</td>\n",
       "    </tr>\n",
       "    <tr>\n",
       "      <th>top</th>\n",
       "      <td>Unset</td>\n",
       "      <td>Unset</td>\n",
       "      <td>11-Year-Old Boy Charged With Manslaughter of T...</td>\n",
       "    </tr>\n",
       "    <tr>\n",
       "      <th>freq</th>\n",
       "      <td>26</td>\n",
       "      <td>1105</td>\n",
       "      <td>3</td>\n",
       "    </tr>\n",
       "  </tbody>\n",
       "</table>\n",
       "</div>"
      ],
      "text/plain": [
       "       keyword location                                               text\n",
       "count     3263     3263                                               3263\n",
       "unique     222     1603                                               3243\n",
       "top      Unset    Unset  11-Year-Old Boy Charged With Manslaughter of T...\n",
       "freq        26     1105                                                  3"
      ]
     },
     "execution_count": 24,
     "metadata": {},
     "output_type": "execute_result"
    }
   ],
   "source": [
    "test_data.describe(include=[np.object])"
   ]
  },
  {
   "cell_type": "code",
   "execution_count": 25,
   "metadata": {},
   "outputs": [],
   "source": [
    "text_len = [len(i) for i in test_data['text']]"
   ]
  },
  {
   "cell_type": "code",
   "execution_count": 26,
   "metadata": {},
   "outputs": [
    {
     "name": "stdout",
     "output_type": "stream",
     "text": [
      "Max length of test tweets: 151\n"
     ]
    }
   ],
   "source": [
    "print(\"Max length of test tweets:\", max(text_len))"
   ]
  },
  {
   "cell_type": "code",
   "execution_count": 27,
   "metadata": {},
   "outputs": [
    {
     "data": {
      "image/png": "[encoded data removed]",
      "text/plain": [
       "<Figure size 432x288 with 1 Axes>"
      ]
     },
     "metadata": {
      "needs_background": "light"
     },
     "output_type": "display_data"
    }
   ],
   "source": [
    "plt.hist(text_len, 10, facecolor='blue', edgecolor='black', linewidth=1.2)\n",
    "plt.xlabel('Test text lenght')\n",
    "plt.ylabel('Number of examples')\n",
    "plt.title('Distribution of text\\'s lenghts for test dataset')\n",
    "plt.show()"
   ]
  },
  {
   "cell_type": "code",
   "execution_count": 28,
   "metadata": {},
   "outputs": [],
   "source": [
    "MAX_LEN = 157"
   ]
  },
  {
   "cell_type": "markdown",
   "metadata": {},
   "source": [
    "### Lifehack !"
   ]
  },
  {
   "cell_type": "markdown",
   "metadata": {},
   "source": [
    "As already mentioned in other notebooks, there are full dataset with all target value in the Internet! That is why developers can deceive system using this dataset for submitting or simply for training model. We can illustrate simple example of this and get targets for test examples from full dataset:"
   ]
  },
  {
   "cell_type": "code",
   "execution_count": 29,
   "metadata": {},
   "outputs": [
    {
     "data": {
      "text/html": [
       "<div>\n",
       "<style scoped>\n",
       "    .dataframe tbody tr th:only-of-type {\n",
       "        vertical-align: middle;\n",
       "    }\n",
       "\n",
       "    .dataframe tbody tr th {\n",
       "        vertical-align: top;\n",
       "    }\n",
       "\n",
       "    .dataframe thead th {\n",
       "        text-align: right;\n",
       "    }\n",
       "</style>\n",
       "<table border=\"1\" class=\"dataframe\">\n",
       "  <thead>\n",
       "    <tr style=\"text-align: right;\">\n",
       "      <th></th>\n",
       "      <th>_unit_id</th>\n",
       "      <th>_golden</th>\n",
       "      <th>_unit_state</th>\n",
       "      <th>_trusted_judgments</th>\n",
       "      <th>_last_judgment_at</th>\n",
       "      <th>choose_one</th>\n",
       "      <th>choose_one:confidence</th>\n",
       "      <th>choose_one_gold</th>\n",
       "      <th>keyword</th>\n",
       "      <th>location</th>\n",
       "      <th>text</th>\n",
       "      <th>tweetid</th>\n",
       "      <th>userid</th>\n",
       "    </tr>\n",
       "  </thead>\n",
       "  <tbody>\n",
       "    <tr>\n",
       "      <th>0</th>\n",
       "      <td>778243823</td>\n",
       "      <td>True</td>\n",
       "      <td>golden</td>\n",
       "      <td>156</td>\n",
       "      <td>NaN</td>\n",
       "      <td>Relevant</td>\n",
       "      <td>1.0000</td>\n",
       "      <td>Relevant</td>\n",
       "      <td>NaN</td>\n",
       "      <td>NaN</td>\n",
       "      <td>Just happened a terrible car crash</td>\n",
       "      <td>1.0</td>\n",
       "      <td>NaN</td>\n",
       "    </tr>\n",
       "    <tr>\n",
       "      <th>1</th>\n",
       "      <td>778243824</td>\n",
       "      <td>True</td>\n",
       "      <td>golden</td>\n",
       "      <td>152</td>\n",
       "      <td>NaN</td>\n",
       "      <td>Relevant</td>\n",
       "      <td>1.0000</td>\n",
       "      <td>Relevant</td>\n",
       "      <td>NaN</td>\n",
       "      <td>NaN</td>\n",
       "      <td>Our Deeds are the Reason of this #earthquake M...</td>\n",
       "      <td>13.0</td>\n",
       "      <td>NaN</td>\n",
       "    </tr>\n",
       "    <tr>\n",
       "      <th>2</th>\n",
       "      <td>778243825</td>\n",
       "      <td>True</td>\n",
       "      <td>golden</td>\n",
       "      <td>137</td>\n",
       "      <td>NaN</td>\n",
       "      <td>Relevant</td>\n",
       "      <td>1.0000</td>\n",
       "      <td>Relevant</td>\n",
       "      <td>NaN</td>\n",
       "      <td>NaN</td>\n",
       "      <td>Heard about #earthquake is different cities, s...</td>\n",
       "      <td>14.0</td>\n",
       "      <td>NaN</td>\n",
       "    </tr>\n",
       "    <tr>\n",
       "      <th>3</th>\n",
       "      <td>778243826</td>\n",
       "      <td>True</td>\n",
       "      <td>golden</td>\n",
       "      <td>136</td>\n",
       "      <td>NaN</td>\n",
       "      <td>Relevant</td>\n",
       "      <td>0.9603</td>\n",
       "      <td>Relevant</td>\n",
       "      <td>NaN</td>\n",
       "      <td>NaN</td>\n",
       "      <td>there is a forest fire at spot pond, geese are...</td>\n",
       "      <td>15.0</td>\n",
       "      <td>NaN</td>\n",
       "    </tr>\n",
       "    <tr>\n",
       "      <th>4</th>\n",
       "      <td>778243827</td>\n",
       "      <td>True</td>\n",
       "      <td>golden</td>\n",
       "      <td>138</td>\n",
       "      <td>NaN</td>\n",
       "      <td>Relevant</td>\n",
       "      <td>1.0000</td>\n",
       "      <td>Relevant</td>\n",
       "      <td>NaN</td>\n",
       "      <td>NaN</td>\n",
       "      <td>Forest fire near La Ronge Sask. Canada</td>\n",
       "      <td>16.0</td>\n",
       "      <td>NaN</td>\n",
       "    </tr>\n",
       "  </tbody>\n",
       "</table>\n",
       "</div>"
      ],
      "text/plain": [
       "    _unit_id  _golden _unit_state  _trusted_judgments _last_judgment_at  \\\n",
       "0  778243823     True      golden                 156               NaN   \n",
       "1  778243824     True      golden                 152               NaN   \n",
       "2  778243825     True      golden                 137               NaN   \n",
       "3  778243826     True      golden                 136               NaN   \n",
       "4  778243827     True      golden                 138               NaN   \n",
       "\n",
       "  choose_one  choose_one:confidence choose_one_gold keyword location  \\\n",
       "0   Relevant                 1.0000        Relevant     NaN      NaN   \n",
       "1   Relevant                 1.0000        Relevant     NaN      NaN   \n",
       "2   Relevant                 1.0000        Relevant     NaN      NaN   \n",
       "3   Relevant                 0.9603        Relevant     NaN      NaN   \n",
       "4   Relevant                 1.0000        Relevant     NaN      NaN   \n",
       "\n",
       "                                                text  tweetid  userid  \n",
       "0                 Just happened a terrible car crash      1.0     NaN  \n",
       "1  Our Deeds are the Reason of this #earthquake M...     13.0     NaN  \n",
       "2  Heard about #earthquake is different cities, s...     14.0     NaN  \n",
       "3  there is a forest fire at spot pond, geese are...     15.0     NaN  \n",
       "4             Forest fire near La Ronge Sask. Canada     16.0     NaN  "
      ]
     },
     "execution_count": 29,
     "metadata": {},
     "output_type": "execute_result"
    }
   ],
   "source": [
    "full_data = pd.read_csv('data/all.csv', encoding = \"ISO-8859-1\")\n",
    "full_data.head(5)"
   ]
  },
  {
   "cell_type": "code",
   "execution_count": 30,
   "metadata": {},
   "outputs": [],
   "source": [
    "full_data['id'] = full_data.index\n",
    "full_data['target'] = (full_data['choose_one'] == 'Relevant').astype(int)"
   ]
  },
  {
   "cell_type": "code",
   "execution_count": 31,
   "metadata": {},
   "outputs": [
    {
     "data": {
      "text/html": [
       "<div>\n",
       "<style scoped>\n",
       "    .dataframe tbody tr th:only-of-type {\n",
       "        vertical-align: middle;\n",
       "    }\n",
       "\n",
       "    .dataframe tbody tr th {\n",
       "        vertical-align: top;\n",
       "    }\n",
       "\n",
       "    .dataframe thead th {\n",
       "        text-align: right;\n",
       "    }\n",
       "</style>\n",
       "<table border=\"1\" class=\"dataframe\">\n",
       "  <thead>\n",
       "    <tr style=\"text-align: right;\">\n",
       "      <th></th>\n",
       "      <th>id</th>\n",
       "      <th>keyword</th>\n",
       "      <th>location</th>\n",
       "      <th>text</th>\n",
       "      <th>target</th>\n",
       "    </tr>\n",
       "  </thead>\n",
       "  <tbody>\n",
       "    <tr>\n",
       "      <th>0</th>\n",
       "      <td>0</td>\n",
       "      <td>NaN</td>\n",
       "      <td>NaN</td>\n",
       "      <td>Just happened a terrible car crash</td>\n",
       "      <td>1</td>\n",
       "    </tr>\n",
       "    <tr>\n",
       "      <th>1</th>\n",
       "      <td>1</td>\n",
       "      <td>NaN</td>\n",
       "      <td>NaN</td>\n",
       "      <td>Our Deeds are the Reason of this #earthquake M...</td>\n",
       "      <td>1</td>\n",
       "    </tr>\n",
       "    <tr>\n",
       "      <th>2</th>\n",
       "      <td>2</td>\n",
       "      <td>NaN</td>\n",
       "      <td>NaN</td>\n",
       "      <td>Heard about #earthquake is different cities, s...</td>\n",
       "      <td>1</td>\n",
       "    </tr>\n",
       "    <tr>\n",
       "      <th>3</th>\n",
       "      <td>3</td>\n",
       "      <td>NaN</td>\n",
       "      <td>NaN</td>\n",
       "      <td>there is a forest fire at spot pond, geese are...</td>\n",
       "      <td>1</td>\n",
       "    </tr>\n",
       "    <tr>\n",
       "      <th>4</th>\n",
       "      <td>4</td>\n",
       "      <td>NaN</td>\n",
       "      <td>NaN</td>\n",
       "      <td>Forest fire near La Ronge Sask. Canada</td>\n",
       "      <td>1</td>\n",
       "    </tr>\n",
       "    <tr>\n",
       "      <th>5</th>\n",
       "      <td>5</td>\n",
       "      <td>NaN</td>\n",
       "      <td>NaN</td>\n",
       "      <td>All residents asked to 'shelter in place' are ...</td>\n",
       "      <td>1</td>\n",
       "    </tr>\n",
       "    <tr>\n",
       "      <th>6</th>\n",
       "      <td>6</td>\n",
       "      <td>NaN</td>\n",
       "      <td>NaN</td>\n",
       "      <td>13,000 people receive #wildfires evacuation or...</td>\n",
       "      <td>1</td>\n",
       "    </tr>\n",
       "    <tr>\n",
       "      <th>7</th>\n",
       "      <td>7</td>\n",
       "      <td>NaN</td>\n",
       "      <td>NaN</td>\n",
       "      <td>Just got sent this photo from Ruby #Alaska as ...</td>\n",
       "      <td>1</td>\n",
       "    </tr>\n",
       "    <tr>\n",
       "      <th>8</th>\n",
       "      <td>8</td>\n",
       "      <td>NaN</td>\n",
       "      <td>NaN</td>\n",
       "      <td>#RockyFire Update =&gt; California Hwy. 20 closed...</td>\n",
       "      <td>1</td>\n",
       "    </tr>\n",
       "    <tr>\n",
       "      <th>9</th>\n",
       "      <td>9</td>\n",
       "      <td>NaN</td>\n",
       "      <td>NaN</td>\n",
       "      <td>Apocalypse lighting. #Spokane #wildfires</td>\n",
       "      <td>1</td>\n",
       "    </tr>\n",
       "  </tbody>\n",
       "</table>\n",
       "</div>"
      ],
      "text/plain": [
       "   id keyword location                                               text  \\\n",
       "0   0     NaN      NaN                 Just happened a terrible car crash   \n",
       "1   1     NaN      NaN  Our Deeds are the Reason of this #earthquake M...   \n",
       "2   2     NaN      NaN  Heard about #earthquake is different cities, s...   \n",
       "3   3     NaN      NaN  there is a forest fire at spot pond, geese are...   \n",
       "4   4     NaN      NaN             Forest fire near La Ronge Sask. Canada   \n",
       "5   5     NaN      NaN  All residents asked to 'shelter in place' are ...   \n",
       "6   6     NaN      NaN  13,000 people receive #wildfires evacuation or...   \n",
       "7   7     NaN      NaN  Just got sent this photo from Ruby #Alaska as ...   \n",
       "8   8     NaN      NaN  #RockyFire Update => California Hwy. 20 closed...   \n",
       "9   9     NaN      NaN           Apocalypse lighting. #Spokane #wildfires   \n",
       "\n",
       "   target  \n",
       "0       1  \n",
       "1       1  \n",
       "2       1  \n",
       "3       1  \n",
       "4       1  \n",
       "5       1  \n",
       "6       1  \n",
       "7       1  \n",
       "8       1  \n",
       "9       1  "
      ]
     },
     "execution_count": 31,
     "metadata": {},
     "output_type": "execute_result"
    }
   ],
   "source": [
    "full_data = full_data[['id', 'keyword', 'location', 'text', 'target']]\n",
    "full_data.head(10)"
   ]
  },
  {
   "cell_type": "code",
   "execution_count": 32,
   "metadata": {},
   "outputs": [
    {
     "data": {
      "text/html": [
       "<div>\n",
       "<style scoped>\n",
       "    .dataframe tbody tr th:only-of-type {\n",
       "        vertical-align: middle;\n",
       "    }\n",
       "\n",
       "    .dataframe tbody tr th {\n",
       "        vertical-align: top;\n",
       "    }\n",
       "\n",
       "    .dataframe thead th {\n",
       "        text-align: right;\n",
       "    }\n",
       "</style>\n",
       "<table border=\"1\" class=\"dataframe\">\n",
       "  <thead>\n",
       "    <tr style=\"text-align: right;\">\n",
       "      <th></th>\n",
       "      <th>id</th>\n",
       "      <th>keyword_x</th>\n",
       "      <th>location_x</th>\n",
       "      <th>text_x</th>\n",
       "      <th>keyword_y</th>\n",
       "      <th>location_y</th>\n",
       "      <th>text_y</th>\n",
       "      <th>target</th>\n",
       "    </tr>\n",
       "  </thead>\n",
       "  <tbody>\n",
       "    <tr>\n",
       "      <th>0</th>\n",
       "      <td>0</td>\n",
       "      <td>Unset</td>\n",
       "      <td>Unset</td>\n",
       "      <td>Just happened a terrible car crash</td>\n",
       "      <td>NaN</td>\n",
       "      <td>NaN</td>\n",
       "      <td>Just happened a terrible car crash</td>\n",
       "      <td>1</td>\n",
       "    </tr>\n",
       "    <tr>\n",
       "      <th>1</th>\n",
       "      <td>2</td>\n",
       "      <td>Unset</td>\n",
       "      <td>Unset</td>\n",
       "      <td>Heard about #earthquake is different cities, s...</td>\n",
       "      <td>NaN</td>\n",
       "      <td>NaN</td>\n",
       "      <td>Heard about #earthquake is different cities, s...</td>\n",
       "      <td>1</td>\n",
       "    </tr>\n",
       "    <tr>\n",
       "      <th>2</th>\n",
       "      <td>3</td>\n",
       "      <td>Unset</td>\n",
       "      <td>Unset</td>\n",
       "      <td>there is a forest fire at spot pond, geese are...</td>\n",
       "      <td>NaN</td>\n",
       "      <td>NaN</td>\n",
       "      <td>there is a forest fire at spot pond, geese are...</td>\n",
       "      <td>1</td>\n",
       "    </tr>\n",
       "    <tr>\n",
       "      <th>3</th>\n",
       "      <td>9</td>\n",
       "      <td>Unset</td>\n",
       "      <td>Unset</td>\n",
       "      <td>Apocalypse lighting. #Spokane #wildfires</td>\n",
       "      <td>NaN</td>\n",
       "      <td>NaN</td>\n",
       "      <td>Apocalypse lighting. #Spokane #wildfires</td>\n",
       "      <td>1</td>\n",
       "    </tr>\n",
       "    <tr>\n",
       "      <th>4</th>\n",
       "      <td>11</td>\n",
       "      <td>Unset</td>\n",
       "      <td>Unset</td>\n",
       "      <td>Typhoon Soudelor kills 28 in China and Taiwan</td>\n",
       "      <td>NaN</td>\n",
       "      <td>NaN</td>\n",
       "      <td>Typhoon Soudelor kills 28 in China and Taiwan</td>\n",
       "      <td>1</td>\n",
       "    </tr>\n",
       "  </tbody>\n",
       "</table>\n",
       "</div>"
      ],
      "text/plain": [
       "   id keyword_x location_x                                             text_x  \\\n",
       "0   0     Unset      Unset                 Just happened a terrible car crash   \n",
       "1   2     Unset      Unset  Heard about #earthquake is different cities, s...   \n",
       "2   3     Unset      Unset  there is a forest fire at spot pond, geese are...   \n",
       "3   9     Unset      Unset           Apocalypse lighting. #Spokane #wildfires   \n",
       "4  11     Unset      Unset      Typhoon Soudelor kills 28 in China and Taiwan   \n",
       "\n",
       "  keyword_y location_y                                             text_y  \\\n",
       "0       NaN        NaN                 Just happened a terrible car crash   \n",
       "1       NaN        NaN  Heard about #earthquake is different cities, s...   \n",
       "2       NaN        NaN  there is a forest fire at spot pond, geese are...   \n",
       "3       NaN        NaN           Apocalypse lighting. #Spokane #wildfires   \n",
       "4       NaN        NaN      Typhoon Soudelor kills 28 in China and Taiwan   \n",
       "\n",
       "   target  \n",
       "0       1  \n",
       "1       1  \n",
       "2       1  \n",
       "3       1  \n",
       "4       1  "
      ]
     },
     "execution_count": 32,
     "metadata": {},
     "output_type": "execute_result"
    }
   ],
   "source": [
    "real_true = pd.merge(test_data, full_data, on='id')\n",
    "real_true.head()"
   ]
  },
  {
   "cell_type": "code",
   "execution_count": 33,
   "metadata": {},
   "outputs": [
    {
     "data": {
      "text/html": [
       "<div>\n",
       "<style scoped>\n",
       "    .dataframe tbody tr th:only-of-type {\n",
       "        vertical-align: middle;\n",
       "    }\n",
       "\n",
       "    .dataframe tbody tr th {\n",
       "        vertical-align: top;\n",
       "    }\n",
       "\n",
       "    .dataframe thead th {\n",
       "        text-align: right;\n",
       "    }\n",
       "</style>\n",
       "<table border=\"1\" class=\"dataframe\">\n",
       "  <thead>\n",
       "    <tr style=\"text-align: right;\">\n",
       "      <th></th>\n",
       "      <th>id</th>\n",
       "      <th>target</th>\n",
       "    </tr>\n",
       "  </thead>\n",
       "  <tbody>\n",
       "    <tr>\n",
       "      <th>0</th>\n",
       "      <td>0</td>\n",
       "      <td>1</td>\n",
       "    </tr>\n",
       "    <tr>\n",
       "      <th>1</th>\n",
       "      <td>2</td>\n",
       "      <td>1</td>\n",
       "    </tr>\n",
       "    <tr>\n",
       "      <th>2</th>\n",
       "      <td>3</td>\n",
       "      <td>1</td>\n",
       "    </tr>\n",
       "    <tr>\n",
       "      <th>3</th>\n",
       "      <td>9</td>\n",
       "      <td>1</td>\n",
       "    </tr>\n",
       "    <tr>\n",
       "      <th>4</th>\n",
       "      <td>11</td>\n",
       "      <td>1</td>\n",
       "    </tr>\n",
       "  </tbody>\n",
       "</table>\n",
       "</div>"
      ],
      "text/plain": [
       "   id  target\n",
       "0   0       1\n",
       "1   2       1\n",
       "2   3       1\n",
       "3   9       1\n",
       "4  11       1"
      ]
     },
     "execution_count": 33,
     "metadata": {},
     "output_type": "execute_result"
    }
   ],
   "source": [
    "to_submit = real_true[['id', 'target']]\n",
    "to_submit.head()"
   ]
  },
  {
   "cell_type": "code",
   "execution_count": 34,
   "metadata": {},
   "outputs": [],
   "source": [
    "real_true.to_csv('result/real_true.csv', index=False)"
   ]
  },
  {
   "cell_type": "markdown",
   "metadata": {},
   "source": [
    "#### Of course, we got F1-score = 1!"
   ]
  },
  {
   "cell_type": "markdown",
   "metadata": {},
   "source": [
    "<img src=\"result/real_true_sub.png\">"
   ]
  },
  {
   "cell_type": "markdown",
   "metadata": {},
   "source": [
    "#### But it is unfaithful and not interesting for true developers! :)"
   ]
  },
  {
   "cell_type": "markdown",
   "metadata": {},
   "source": [
    "### Let's begin implementation of our model"
   ]
  },
  {
   "cell_type": "markdown",
   "metadata": {},
   "source": [
    "We create test dataset (from this full version) with true targets value ONLY for testing our models during the training process!!!"
   ]
  },
  {
   "cell_type": "code",
   "execution_count": 35,
   "metadata": {},
   "outputs": [
    {
     "data": {
      "text/html": [
       "<div>\n",
       "<style scoped>\n",
       "    .dataframe tbody tr th:only-of-type {\n",
       "        vertical-align: middle;\n",
       "    }\n",
       "\n",
       "    .dataframe tbody tr th {\n",
       "        vertical-align: top;\n",
       "    }\n",
       "\n",
       "    .dataframe thead th {\n",
       "        text-align: right;\n",
       "    }\n",
       "</style>\n",
       "<table border=\"1\" class=\"dataframe\">\n",
       "  <thead>\n",
       "    <tr style=\"text-align: right;\">\n",
       "      <th></th>\n",
       "      <th>id</th>\n",
       "      <th>target</th>\n",
       "      <th>keyword_x</th>\n",
       "      <th>location_x</th>\n",
       "      <th>text_x</th>\n",
       "    </tr>\n",
       "  </thead>\n",
       "  <tbody>\n",
       "    <tr>\n",
       "      <th>0</th>\n",
       "      <td>0</td>\n",
       "      <td>1</td>\n",
       "      <td>Unset</td>\n",
       "      <td>Unset</td>\n",
       "      <td>Just happened a terrible car crash</td>\n",
       "    </tr>\n",
       "    <tr>\n",
       "      <th>1</th>\n",
       "      <td>2</td>\n",
       "      <td>1</td>\n",
       "      <td>Unset</td>\n",
       "      <td>Unset</td>\n",
       "      <td>Heard about #earthquake is different cities, s...</td>\n",
       "    </tr>\n",
       "    <tr>\n",
       "      <th>2</th>\n",
       "      <td>3</td>\n",
       "      <td>1</td>\n",
       "      <td>Unset</td>\n",
       "      <td>Unset</td>\n",
       "      <td>there is a forest fire at spot pond, geese are...</td>\n",
       "    </tr>\n",
       "    <tr>\n",
       "      <th>3</th>\n",
       "      <td>9</td>\n",
       "      <td>1</td>\n",
       "      <td>Unset</td>\n",
       "      <td>Unset</td>\n",
       "      <td>Apocalypse lighting. #Spokane #wildfires</td>\n",
       "    </tr>\n",
       "    <tr>\n",
       "      <th>4</th>\n",
       "      <td>11</td>\n",
       "      <td>1</td>\n",
       "      <td>Unset</td>\n",
       "      <td>Unset</td>\n",
       "      <td>Typhoon Soudelor kills 28 in China and Taiwan</td>\n",
       "    </tr>\n",
       "  </tbody>\n",
       "</table>\n",
       "</div>"
      ],
      "text/plain": [
       "   id  target keyword_x location_x  \\\n",
       "0   0       1     Unset      Unset   \n",
       "1   2       1     Unset      Unset   \n",
       "2   3       1     Unset      Unset   \n",
       "3   9       1     Unset      Unset   \n",
       "4  11       1     Unset      Unset   \n",
       "\n",
       "                                              text_x  \n",
       "0                 Just happened a terrible car crash  \n",
       "1  Heard about #earthquake is different cities, s...  \n",
       "2  there is a forest fire at spot pond, geese are...  \n",
       "3           Apocalypse lighting. #Spokane #wildfires  \n",
       "4      Typhoon Soudelor kills 28 in China and Taiwan  "
      ]
     },
     "execution_count": 35,
     "metadata": {},
     "output_type": "execute_result"
    }
   ],
   "source": [
    "test_data_new = real_true[['id', 'target', 'keyword_x', 'location_x', 'text_x']]\n",
    "test_data_new.head()"
   ]
  },
  {
   "cell_type": "code",
   "execution_count": 36,
   "metadata": {},
   "outputs": [
    {
     "data": {
      "text/html": [
       "<div>\n",
       "<style scoped>\n",
       "    .dataframe tbody tr th:only-of-type {\n",
       "        vertical-align: middle;\n",
       "    }\n",
       "\n",
       "    .dataframe tbody tr th {\n",
       "        vertical-align: top;\n",
       "    }\n",
       "\n",
       "    .dataframe thead th {\n",
       "        text-align: right;\n",
       "    }\n",
       "</style>\n",
       "<table border=\"1\" class=\"dataframe\">\n",
       "  <thead>\n",
       "    <tr style=\"text-align: right;\">\n",
       "      <th></th>\n",
       "      <th>id</th>\n",
       "      <th>target</th>\n",
       "      <th>keyword</th>\n",
       "      <th>location</th>\n",
       "      <th>text</th>\n",
       "    </tr>\n",
       "  </thead>\n",
       "  <tbody>\n",
       "    <tr>\n",
       "      <th>0</th>\n",
       "      <td>0</td>\n",
       "      <td>1</td>\n",
       "      <td>Unset</td>\n",
       "      <td>Unset</td>\n",
       "      <td>Just happened a terrible car crash</td>\n",
       "    </tr>\n",
       "    <tr>\n",
       "      <th>1</th>\n",
       "      <td>2</td>\n",
       "      <td>1</td>\n",
       "      <td>Unset</td>\n",
       "      <td>Unset</td>\n",
       "      <td>Heard about #earthquake is different cities, s...</td>\n",
       "    </tr>\n",
       "    <tr>\n",
       "      <th>2</th>\n",
       "      <td>3</td>\n",
       "      <td>1</td>\n",
       "      <td>Unset</td>\n",
       "      <td>Unset</td>\n",
       "      <td>there is a forest fire at spot pond, geese are...</td>\n",
       "    </tr>\n",
       "    <tr>\n",
       "      <th>3</th>\n",
       "      <td>9</td>\n",
       "      <td>1</td>\n",
       "      <td>Unset</td>\n",
       "      <td>Unset</td>\n",
       "      <td>Apocalypse lighting. #Spokane #wildfires</td>\n",
       "    </tr>\n",
       "    <tr>\n",
       "      <th>4</th>\n",
       "      <td>11</td>\n",
       "      <td>1</td>\n",
       "      <td>Unset</td>\n",
       "      <td>Unset</td>\n",
       "      <td>Typhoon Soudelor kills 28 in China and Taiwan</td>\n",
       "    </tr>\n",
       "  </tbody>\n",
       "</table>\n",
       "</div>"
      ],
      "text/plain": [
       "   id  target keyword location  \\\n",
       "0   0       1   Unset    Unset   \n",
       "1   2       1   Unset    Unset   \n",
       "2   3       1   Unset    Unset   \n",
       "3   9       1   Unset    Unset   \n",
       "4  11       1   Unset    Unset   \n",
       "\n",
       "                                                text  \n",
       "0                 Just happened a terrible car crash  \n",
       "1  Heard about #earthquake is different cities, s...  \n",
       "2  there is a forest fire at spot pond, geese are...  \n",
       "3           Apocalypse lighting. #Spokane #wildfires  \n",
       "4      Typhoon Soudelor kills 28 in China and Taiwan  "
      ]
     },
     "execution_count": 36,
     "metadata": {},
     "output_type": "execute_result"
    }
   ],
   "source": [
    "test_data_new = test_data_new.rename(columns={\"keyword_x\": \"keyword\", \"location_x\": \"location\", \"text_x\": \"text\"})\n",
    "test_data_new.head()"
   ]
  },
  {
   "cell_type": "markdown",
   "metadata": {},
   "source": [
    "# Clearing text and preparing data"
   ]
  },
  {
   "cell_type": "markdown",
   "metadata": {},
   "source": [
    "We try different types of text's clearing, but it is the best.\n",
    "\n",
    "We delete punctuation, spaces, special symbols ($, \\%, §, ©, +, −, ×, ÷, =, :), 😝) and numeral using Spacy library."
   ]
  },
  {
   "cell_type": "code",
   "execution_count": 37,
   "metadata": {},
   "outputs": [],
   "source": [
    "def clearing_data(data):\n",
    "    model_lingv = spacy.load(\"en\")\n",
    "    discard = {'PUNCT','SPACE','SYM','NUM'}\n",
    "\n",
    "    processed_text = []\n",
    "\n",
    "    n = len(data[\"text\"])\n",
    "    for i in range(0, n):\n",
    "        text = data[\"text\"][i]\n",
    "        text = text.lower()\n",
    "        doc = model_lingv(text)\n",
    "        words = []\n",
    "        for w in doc:\n",
    "            if w.pos_ not in discard and not w.like_email and not w.like_url and not w.like_num:\n",
    "                words.append(w.string)\n",
    "        t = ' '.join(words)\n",
    "        processed_text.append(t)\n",
    "\n",
    "        sys.stdout.write(\"\\r%f%%\" % (100*(i+1)/n))\n",
    "        sys.stdout.flush()\n",
    "\n",
    "    data[\"clearing_text\"] = processed_text\n",
    "    return data"
   ]
  },
  {
   "cell_type": "code",
   "execution_count": 38,
   "metadata": {},
   "outputs": [
    {
     "name": "stdout",
     "output_type": "stream",
     "text": [
      "100.000000%\n",
      "Train data was clearing!\n",
      "100.000000%\n",
      "Test data was clearing!\n"
     ]
    }
   ],
   "source": [
    "train_data = clearing_data(train_data)\n",
    "print(\"\\nTrain data was clearing!\")\n",
    "test_data_new = clearing_data(test_data_new)\n",
    "print(\"\\nTest data was clearing!\")"
   ]
  },
  {
   "cell_type": "code",
   "execution_count": 39,
   "metadata": {},
   "outputs": [
    {
     "data": {
      "text/html": [
       "<div>\n",
       "<style scoped>\n",
       "    .dataframe tbody tr th:only-of-type {\n",
       "        vertical-align: middle;\n",
       "    }\n",
       "\n",
       "    .dataframe tbody tr th {\n",
       "        vertical-align: top;\n",
       "    }\n",
       "\n",
       "    .dataframe thead th {\n",
       "        text-align: right;\n",
       "    }\n",
       "</style>\n",
       "<table border=\"1\" class=\"dataframe\">\n",
       "  <thead>\n",
       "    <tr style=\"text-align: right;\">\n",
       "      <th></th>\n",
       "      <th>id</th>\n",
       "      <th>keyword</th>\n",
       "      <th>location</th>\n",
       "      <th>text</th>\n",
       "      <th>target</th>\n",
       "      <th>clearing_text</th>\n",
       "    </tr>\n",
       "  </thead>\n",
       "  <tbody>\n",
       "    <tr>\n",
       "      <th>0</th>\n",
       "      <td>1</td>\n",
       "      <td>Unset</td>\n",
       "      <td>Unset</td>\n",
       "      <td>Our Deeds are the Reason of this #earthquake M...</td>\n",
       "      <td>1</td>\n",
       "      <td>our  deeds  are  the  reason  of  this  # eart...</td>\n",
       "    </tr>\n",
       "    <tr>\n",
       "      <th>1</th>\n",
       "      <td>4</td>\n",
       "      <td>Unset</td>\n",
       "      <td>Unset</td>\n",
       "      <td>Forest fire near La Ronge Sask. Canada</td>\n",
       "      <td>1</td>\n",
       "      <td>forest  fire  near  la  ronge  sask canada</td>\n",
       "    </tr>\n",
       "    <tr>\n",
       "      <th>2</th>\n",
       "      <td>5</td>\n",
       "      <td>Unset</td>\n",
       "      <td>Unset</td>\n",
       "      <td>All residents asked to 'shelter in place' are ...</td>\n",
       "      <td>1</td>\n",
       "      <td>all  residents  asked  to  shelter  in  place ...</td>\n",
       "    </tr>\n",
       "    <tr>\n",
       "      <th>3</th>\n",
       "      <td>6</td>\n",
       "      <td>Unset</td>\n",
       "      <td>Unset</td>\n",
       "      <td>13,000 people receive #wildfires evacuation or...</td>\n",
       "      <td>1</td>\n",
       "      <td>people  receive  # wildfires  evacuation  orde...</td>\n",
       "    </tr>\n",
       "    <tr>\n",
       "      <th>4</th>\n",
       "      <td>7</td>\n",
       "      <td>Unset</td>\n",
       "      <td>Unset</td>\n",
       "      <td>Just got sent this photo from Ruby #Alaska as ...</td>\n",
       "      <td>1</td>\n",
       "      <td>just  got  sent  this  photo  from  ruby  alas...</td>\n",
       "    </tr>\n",
       "  </tbody>\n",
       "</table>\n",
       "</div>"
      ],
      "text/plain": [
       "   id keyword location                                               text  \\\n",
       "0   1   Unset    Unset  Our Deeds are the Reason of this #earthquake M...   \n",
       "1   4   Unset    Unset             Forest fire near La Ronge Sask. Canada   \n",
       "2   5   Unset    Unset  All residents asked to 'shelter in place' are ...   \n",
       "3   6   Unset    Unset  13,000 people receive #wildfires evacuation or...   \n",
       "4   7   Unset    Unset  Just got sent this photo from Ruby #Alaska as ...   \n",
       "\n",
       "   target                                      clearing_text  \n",
       "0       1  our  deeds  are  the  reason  of  this  # eart...  \n",
       "1       1         forest  fire  near  la  ronge  sask canada  \n",
       "2       1  all  residents  asked  to  shelter  in  place ...  \n",
       "3       1  people  receive  # wildfires  evacuation  orde...  \n",
       "4       1  just  got  sent  this  photo  from  ruby  alas...  "
      ]
     },
     "execution_count": 39,
     "metadata": {},
     "output_type": "execute_result"
    }
   ],
   "source": [
    "train_data.head()"
   ]
  },
  {
   "cell_type": "code",
   "execution_count": 40,
   "metadata": {},
   "outputs": [
    {
     "data": {
      "text/html": [
       "<div>\n",
       "<style scoped>\n",
       "    .dataframe tbody tr th:only-of-type {\n",
       "        vertical-align: middle;\n",
       "    }\n",
       "\n",
       "    .dataframe tbody tr th {\n",
       "        vertical-align: top;\n",
       "    }\n",
       "\n",
       "    .dataframe thead th {\n",
       "        text-align: right;\n",
       "    }\n",
       "</style>\n",
       "<table border=\"1\" class=\"dataframe\">\n",
       "  <thead>\n",
       "    <tr style=\"text-align: right;\">\n",
       "      <th></th>\n",
       "      <th>id</th>\n",
       "      <th>target</th>\n",
       "      <th>keyword</th>\n",
       "      <th>location</th>\n",
       "      <th>text</th>\n",
       "      <th>clearing_text</th>\n",
       "    </tr>\n",
       "  </thead>\n",
       "  <tbody>\n",
       "    <tr>\n",
       "      <th>0</th>\n",
       "      <td>0</td>\n",
       "      <td>1</td>\n",
       "      <td>Unset</td>\n",
       "      <td>Unset</td>\n",
       "      <td>Just happened a terrible car crash</td>\n",
       "      <td>just  happened  a  terrible  car  crash</td>\n",
       "    </tr>\n",
       "    <tr>\n",
       "      <th>1</th>\n",
       "      <td>2</td>\n",
       "      <td>1</td>\n",
       "      <td>Unset</td>\n",
       "      <td>Unset</td>\n",
       "      <td>Heard about #earthquake is different cities, s...</td>\n",
       "      <td>heard  about  earthquake  is  different  citie...</td>\n",
       "    </tr>\n",
       "    <tr>\n",
       "      <th>2</th>\n",
       "      <td>3</td>\n",
       "      <td>1</td>\n",
       "      <td>Unset</td>\n",
       "      <td>Unset</td>\n",
       "      <td>there is a forest fire at spot pond, geese are...</td>\n",
       "      <td>there  is  a  forest  fire  at  spot  pond gee...</td>\n",
       "    </tr>\n",
       "    <tr>\n",
       "      <th>3</th>\n",
       "      <td>9</td>\n",
       "      <td>1</td>\n",
       "      <td>Unset</td>\n",
       "      <td>Unset</td>\n",
       "      <td>Apocalypse lighting. #Spokane #wildfires</td>\n",
       "      <td>apocalypse  lighting # spokane  # wildfires</td>\n",
       "    </tr>\n",
       "    <tr>\n",
       "      <th>4</th>\n",
       "      <td>11</td>\n",
       "      <td>1</td>\n",
       "      <td>Unset</td>\n",
       "      <td>Unset</td>\n",
       "      <td>Typhoon Soudelor kills 28 in China and Taiwan</td>\n",
       "      <td>typhoon  soudelor  kills  in  china  and  taiwan</td>\n",
       "    </tr>\n",
       "  </tbody>\n",
       "</table>\n",
       "</div>"
      ],
      "text/plain": [
       "   id  target keyword location  \\\n",
       "0   0       1   Unset    Unset   \n",
       "1   2       1   Unset    Unset   \n",
       "2   3       1   Unset    Unset   \n",
       "3   9       1   Unset    Unset   \n",
       "4  11       1   Unset    Unset   \n",
       "\n",
       "                                                text  \\\n",
       "0                 Just happened a terrible car crash   \n",
       "1  Heard about #earthquake is different cities, s...   \n",
       "2  there is a forest fire at spot pond, geese are...   \n",
       "3           Apocalypse lighting. #Spokane #wildfires   \n",
       "4      Typhoon Soudelor kills 28 in China and Taiwan   \n",
       "\n",
       "                                       clearing_text  \n",
       "0            just  happened  a  terrible  car  crash  \n",
       "1  heard  about  earthquake  is  different  citie...  \n",
       "2  there  is  a  forest  fire  at  spot  pond gee...  \n",
       "3        apocalypse  lighting # spokane  # wildfires  \n",
       "4   typhoon  soudelor  kills  in  china  and  taiwan  "
      ]
     },
     "execution_count": 40,
     "metadata": {},
     "output_type": "execute_result"
    }
   ],
   "source": [
    "test_data_new.head()"
   ]
  },
  {
   "cell_type": "markdown",
   "metadata": {},
   "source": [
    "Get tweet's text and labels from train and test datasets"
   ]
  },
  {
   "cell_type": "code",
   "execution_count": 41,
   "metadata": {},
   "outputs": [],
   "source": [
    "def prepare_data(data, test=False, max_text_lenth = MAX_LEN):\n",
    "    text = data['clearing_text'].tolist()\n",
    "    text = [' '.join(t.split()[0:max_text_lenth]) for t in text]\n",
    "    text = np.array(text)\n",
    "    \n",
    "    label = []\n",
    "    if not test:\n",
    "        label = data['target'].tolist()\n",
    "    return text, label"
   ]
  },
  {
   "cell_type": "code",
   "execution_count": 42,
   "metadata": {},
   "outputs": [],
   "source": [
    "train_text, train_label = prepare_data(train_data)\n",
    "test_text, test_label = prepare_data(test_data_new)"
   ]
  },
  {
   "cell_type": "markdown",
   "metadata": {},
   "source": [
    "# Building and training models"
   ]
  },
  {
   "cell_type": "markdown",
   "metadata": {},
   "source": [
    "### There are explorations of different type of Neural Networks in this Notebook"
   ]
  },
  {
   "cell_type": "markdown",
   "metadata": {},
   "source": [
    "## Fully-Connected Neural Netrworks "
   ]
  },
  {
   "cell_type": "markdown",
   "metadata": {},
   "source": [
    "First of all, let's try to train **Neural Network** consisting of **Elmo embedding (with Normalization)** and **3  fully-connected layers**"
   ]
  },
  {
   "cell_type": "code",
   "execution_count": 43,
   "metadata": {},
   "outputs": [],
   "source": [
    "# Get ELMo model\n",
    "def make_elmo_embedding(x):\n",
    "    elmo_module = trf_hub.Module(\"https://tfhub.dev/google/elmo/3\", trainable=True)\n",
    "    embeddings = elmo_module(trf.squeeze(trf.cast(x, trf.string)), signature=\"default\", as_dict=True)[\"default\"]\n",
    "    \n",
    "    return embeddings"
   ]
  },
  {
   "cell_type": "code",
   "execution_count": 44,
   "metadata": {},
   "outputs": [],
   "source": [
    "# Class for calculating F1-score after every epoch\n",
    "class Metrics(Callback):\n",
    "        \n",
    "    def on_epoch_end(self, epoch, logs={}):\n",
    "        val_predict = (np.asarray(self.model.predict(self.validation_data[0]))).round()\n",
    "        val_targ = self.validation_data[1]\n",
    "        _val_f1 = f1_score(val_targ, val_predict)\n",
    "        print(\"F1:\", _val_f1)\n",
    "        return"
   ]
  },
  {
   "cell_type": "code",
   "execution_count": 45,
   "metadata": {},
   "outputs": [],
   "source": [
    "metrics = Metrics()"
   ]
  },
  {
   "cell_type": "code",
   "execution_count": 46,
   "metadata": {},
   "outputs": [],
   "source": [
    "def build_model():\n",
    "    input_text = layers.Input(shape=(1, ), dtype=trf.string)\n",
    "    \n",
    "    elmo_embedding = layers.Lambda(make_elmo_embedding, output_shape=(1024,))(input_text)\n",
    "    \n",
    "    word_embedding = BatchNormalization()(elmo_embedding)\n",
    "    \n",
    "    x = Dense(128, activation='relu')(word_embedding)\n",
    "    x2 = Dense(64, activation='relu')(x)\n",
    "    \n",
    "    predict = Dense(units = 1, activation='sigmoid')(x2)\n",
    "    \n",
    "    model = Model(inputs=[input_text], outputs=predict)\n",
    "    model.compile(loss='binary_crossentropy', optimizer='adam', metrics=['acc'])\n",
    "  \n",
    "    return model"
   ]
  },
  {
   "cell_type": "code",
   "execution_count": 47,
   "metadata": {
    "scrolled": false
   },
   "outputs": [
    {
     "name": "stdout",
     "output_type": "stream",
     "text": [
      "WARNING:tensorflow:From /Users/elizavetamaslennikova/opt/anaconda3/lib/python3.7/site-packages/tensorflow/python/ops/control_flow_ops.py:3632: colocate_with (from tensorflow.python.framework.ops) is deprecated and will be removed in a future version.\n",
      "Instructions for updating:\n",
      "Colocations handled automatically by placer.\n"
     ]
    },
    {
     "name": "stderr",
     "output_type": "stream",
     "text": [
      "WARNING:tensorflow:From /Users/elizavetamaslennikova/opt/anaconda3/lib/python3.7/site-packages/tensorflow/python/ops/control_flow_ops.py:3632: colocate_with (from tensorflow.python.framework.ops) is deprecated and will be removed in a future version.\n",
      "Instructions for updating:\n",
      "Colocations handled automatically by placer.\n"
     ]
    },
    {
     "name": "stdout",
     "output_type": "stream",
     "text": [
      "INFO:tensorflow:Saver not created because there are no variables in the graph to restore\n"
     ]
    },
    {
     "name": "stderr",
     "output_type": "stream",
     "text": [
      "INFO:tensorflow:Saver not created because there are no variables in the graph to restore\n"
     ]
    }
   ],
   "source": [
    "model = build_model()"
   ]
  },
  {
   "cell_type": "code",
   "execution_count": 48,
   "metadata": {},
   "outputs": [
    {
     "name": "stdout",
     "output_type": "stream",
     "text": [
      "_________________________________________________________________\n",
      "Layer (type)                 Output Shape              Param #   \n",
      "=================================================================\n",
      "input_1 (InputLayer)         (None, 1)                 0         \n",
      "_________________________________________________________________\n",
      "lambda_1 (Lambda)            (None, 1024)              0         \n",
      "_________________________________________________________________\n",
      "batch_normalization_1 (Batch (None, 1024)              4096      \n",
      "_________________________________________________________________\n",
      "dense_1 (Dense)              (None, 128)               131200    \n",
      "_________________________________________________________________\n",
      "dense_2 (Dense)              (None, 64)                8256      \n",
      "_________________________________________________________________\n",
      "dense_3 (Dense)              (None, 1)                 65        \n",
      "=================================================================\n",
      "Total params: 143,617\n",
      "Trainable params: 141,569\n",
      "Non-trainable params: 2,048\n",
      "_________________________________________________________________\n"
     ]
    }
   ],
   "source": [
    "model.summary()"
   ]
  },
  {
   "cell_type": "markdown",
   "metadata": {},
   "source": [
    "We will save weights of model after every epoch to avoid retraining of the model"
   ]
  },
  {
   "cell_type": "code",
   "execution_count": 72,
   "metadata": {},
   "outputs": [],
   "source": [
    "MODEL_FOLDER = 'ELMo_FC_v1'\n",
    "os.mkdir(MODEL_FOLDER)"
   ]
  },
  {
   "cell_type": "code",
   "execution_count": 75,
   "metadata": {},
   "outputs": [],
   "source": [
    "def train(model, init_epoch, end_epoch):\n",
    "    history = model.fit(train_text, train_label, validation_data=(test_text, test_label), initial_epoch = init_epoch, epochs=end_epoch, callbacks=[metrics])\n",
    "    new_folder_name = 'after_' + str(end_epoch) + '_epoch'\n",
    "    os.mkdir(os.path.join(MODEL_FOLDER, new_folder_name))\n",
    "    model.save_weights(os.path.join(MODEL_FOLDER, new_folder_name + '_.h5'))\n",
    "    return model"
   ]
  },
  {
   "cell_type": "markdown",
   "metadata": {},
   "source": [
    "Let's try training!"
   ]
  },
  {
   "cell_type": "code",
   "execution_count": 76,
   "metadata": {
    "scrolled": false
   },
   "outputs": [
    {
     "name": "stdout",
     "output_type": "stream",
     "text": [
      "Train on 7613 samples, validate on 3263 samples\n",
      "Epoch 1/1\n",
      "7613/7613 [==============================] - 913s 120ms/step - loss: 0.4627 - acc: 0.7918 - val_loss: 0.5240 - val_acc: 0.7542\n",
      "F1: 0.6718494271685762\n",
      "Train on 7613 samples, validate on 3263 samples\n",
      "Epoch 2/2\n",
      "7613/7613 [==============================] - 902s 118ms/step - loss: 0.3533 - acc: 0.8520 - val_loss: 0.5343 - val_acc: 0.7561\n",
      "F1: 0.6924265842349303\n",
      "Train on 7613 samples, validate on 3263 samples\n",
      "Epoch 3/3\n",
      "7613/7613 [==============================] - 940s 123ms/step - loss: 0.2943 - acc: 0.8767 - val_loss: 0.5693 - val_acc: 0.7469\n",
      "F1: 0.6954277286135693\n",
      "Train on 7613 samples, validate on 3263 samples\n",
      "Epoch 4/4\n",
      "7613/7613 [==============================] - 919s 121ms/step - loss: 0.2413 - acc: 0.9040 - val_loss: 0.5985 - val_acc: 0.7499\n",
      "F1: 0.6880733944954128\n",
      "Train on 7613 samples, validate on 3263 samples\n",
      "Epoch 5/5\n",
      "7613/7613 [==============================] - 938s 123ms/step - loss: 0.1916 - acc: 0.9271 - val_loss: 0.6844 - val_acc: 0.7643\n",
      "F1: 0.67429055484964\n",
      "Train on 7613 samples, validate on 3263 samples\n",
      "Epoch 6/6\n",
      "7613/7613 [==============================] - 938s 123ms/step - loss: 0.1588 - acc: 0.9423 - val_loss: 0.7127 - val_acc: 0.7511\n",
      "F1: 0.6613844870725606\n",
      "Train on 7613 samples, validate on 3263 samples\n",
      "Epoch 7/7\n",
      "7613/7613 [==============================] - 920s 121ms/step - loss: 0.1374 - acc: 0.9510 - val_loss: 0.7584 - val_acc: 0.7364\n",
      "F1: 0.6988795518207283\n",
      "Train on 7613 samples, validate on 3263 samples\n",
      "Epoch 8/8\n",
      "7613/7613 [==============================] - 926s 122ms/step - loss: 0.1142 - acc: 0.9594 - val_loss: 0.7707 - val_acc: 0.7450\n",
      "F1: 0.695906432748538\n"
     ]
    }
   ],
   "source": [
    "for i in range(1, 9):\n",
    "    model = train(model, i-1, i)"
   ]
  },
  {
   "cell_type": "markdown",
   "metadata": {},
   "source": [
    "Moreover, we can try to find list of keywords which indicate disaster most likely and immediately mark them as disaster. We will save both versions from model and artificially corrected."
   ]
  },
  {
   "cell_type": "code",
   "execution_count": 49,
   "metadata": {},
   "outputs": [
    {
     "data": {
      "text/plain": [
       "['wreckage',\n",
       " 'debris',\n",
       " 'derailment',\n",
       " 'outbreak',\n",
       " 'oil%20spill',\n",
       " 'typhoon',\n",
       " 'suicide%20bombing',\n",
       " 'suicide%20bomber']"
      ]
     },
     "execution_count": 49,
     "metadata": {},
     "output_type": "execute_result"
    }
   ],
   "source": [
    "# Thank you for idea https://www.kaggle.com/dmitri9149/transformer-svm-semantically-identical-tweets/notebook\n",
    "aggregation = copy.deepcopy(train_data)\n",
    "\n",
    "aggregation = aggregation.groupby('keyword').agg({'target':np.mean}).rename(columns={'target':'keyword_prob'})\n",
    "aggregation = aggregation.sort_values('keyword_prob', ascending=False).head(20)\n",
    "\n",
    "min_prob = 0.95\n",
    "keyword_disaster = list(aggregation[aggregation['keyword_prob'] >= min_prob].index)\n",
    "keyword_disaster"
   ]
  },
  {
   "cell_type": "code",
   "execution_count": 50,
   "metadata": {},
   "outputs": [],
   "source": [
    "# Function for saving model\n",
    "def save_result(best_epoch):\n",
    "    new_file_name = 'after_' + str(best_epoch) + '_epoch'\n",
    "    model = build_model()\n",
    "    model.load_weights(os.path.join(MODEL_FOLDER, new_file_name, new_file_name + '_.h5'))\n",
    "    \n",
    "    predict_label = np.asarray(model.predict(test_text, verbose=1)).round()\n",
    "    predict_label = predict_label.astype(int)\n",
    "    \n",
    "    for_submit = copy.deepcopy(test_data)\n",
    "    for_submit[\"target\"] = predict_label\n",
    "    for_submit = for_submit[['id', 'target']]\n",
    "    \n",
    "    file_name = 'submit_' + MODEL_FOLDER + '.csv'\n",
    "    for_submit.to_csv('result/' + file_name, index=False)\n",
    "    \n",
    "    # Do correction    \n",
    "    for_submit = copy.deepcopy(test_data)\n",
    "    for_submit[\"target\"] = predict_label\n",
    "    id_to_change = for_submit['id'][for_submit['keyword'].isin(keyword_disaster)].values\n",
    "    for_submit['target'][for_submit['id'].isin(id_to_change)] = 1\n",
    "    for_submit = for_submit[['id', 'target']]\n",
    "    file_name = 'submit_' + MODEL_FOLDER + '_corrected.csv'\n",
    "    for_submit.to_csv('result/' + file_name, index=False)"
   ]
  },
  {
   "cell_type": "code",
   "execution_count": 89,
   "metadata": {},
   "outputs": [
    {
     "name": "stdout",
     "output_type": "stream",
     "text": [
      "INFO:tensorflow:Saver not created because there are no variables in the graph to restore\n"
     ]
    },
    {
     "name": "stderr",
     "output_type": "stream",
     "text": [
      "INFO:tensorflow:Saver not created because there are no variables in the graph to restore\n"
     ]
    },
    {
     "name": "stdout",
     "output_type": "stream",
     "text": [
      "3263/3263 [==============================] - 311s 95ms/step\n"
     ]
    }
   ],
   "source": [
    "save_result(best_epoch = 7)"
   ]
  },
  {
   "cell_type": "markdown",
   "metadata": {},
   "source": [
    "Submition score = 0.73312:\n",
    "<img src=\"result/submit_ELMo_FC_v1_sub.png\">\n",
    "\n",
    "Submition score after correction = 0.73517:\n",
    "<img src=\"result/submit_ELMo_FC_v1_cor_sub.png\">"
   ]
  },
  {
   "cell_type": "markdown",
   "metadata": {},
   "source": [
    "Now let's try to train **Neural Network** consisting of **Elmo embedding (with Normalization)** and **4  fully-connected layers** with more neurons"
   ]
  },
  {
   "cell_type": "code",
   "execution_count": 134,
   "metadata": {},
   "outputs": [],
   "source": [
    "def build_model():\n",
    "    input_text = layers.Input(shape=(None, ), dtype=trf.string)\n",
    "    \n",
    "    elmo_embedding = layers.Lambda(make_elmo_embedding, output_shape=(1024,))(input_text)\n",
    "    \n",
    "    word_embedding = BatchNormalization()(elmo_embedding)\n",
    "    \n",
    "    x = Dense(512, activation='relu')(word_embedding)\n",
    "    x2 = Dense(256, activation='relu')(x)\n",
    "    x3 = Dense(64, activation='relu')(x2)\n",
    "    \n",
    "    predict = Dense(units = 1, activation='sigmoid')(x3)\n",
    "    \n",
    "    model = Model(inputs=[input_text], outputs=predict)\n",
    "    model.compile(loss='binary_crossentropy', optimizer='adam', metrics=['acc'])\n",
    "  \n",
    "    return model"
   ]
  },
  {
   "cell_type": "code",
   "execution_count": 135,
   "metadata": {},
   "outputs": [
    {
     "name": "stdout",
     "output_type": "stream",
     "text": [
      "INFO:tensorflow:Saver not created because there are no variables in the graph to restore\n"
     ]
    },
    {
     "name": "stderr",
     "output_type": "stream",
     "text": [
      "INFO:tensorflow:Saver not created because there are no variables in the graph to restore\n"
     ]
    }
   ],
   "source": [
    "model = build_model()"
   ]
  },
  {
   "cell_type": "code",
   "execution_count": 136,
   "metadata": {},
   "outputs": [
    {
     "name": "stdout",
     "output_type": "stream",
     "text": [
      "_________________________________________________________________\n",
      "Layer (type)                 Output Shape              Param #   \n",
      "=================================================================\n",
      "input_19 (InputLayer)        (None, None)              0         \n",
      "_________________________________________________________________\n",
      "lambda_19 (Lambda)           (None, 1024)              0         \n",
      "_________________________________________________________________\n",
      "batch_normalization_19 (Batc (None, 1024)              4096      \n",
      "_________________________________________________________________\n",
      "dense_40 (Dense)             (None, 512)               524800    \n",
      "_________________________________________________________________\n",
      "dense_41 (Dense)             (None, 256)               131328    \n",
      "_________________________________________________________________\n",
      "dense_42 (Dense)             (None, 64)                16448     \n",
      "_________________________________________________________________\n",
      "dense_43 (Dense)             (None, 1)                 65        \n",
      "=================================================================\n",
      "Total params: 676,737\n",
      "Trainable params: 674,689\n",
      "Non-trainable params: 2,048\n",
      "_________________________________________________________________\n"
     ]
    }
   ],
   "source": [
    "model.summary()"
   ]
  },
  {
   "cell_type": "code",
   "execution_count": 93,
   "metadata": {},
   "outputs": [],
   "source": [
    "MODEL_FOLDER = 'ELMo_FC_v2'\n",
    "os.mkdir(MODEL_FOLDER)"
   ]
  },
  {
   "cell_type": "code",
   "execution_count": 94,
   "metadata": {},
   "outputs": [],
   "source": [
    "def train(model, init_epoch, end_epoch):\n",
    "    history = model.fit(train_text, train_label, validation_data=(test_text, test_label), initial_epoch = init_epoch, epochs=end_epoch, callbacks=[metrics])\n",
    "    new_file_name = 'after_' + str(end_epoch) + '_epoch'\n",
    "    model.save_weights(os.path.join(MODEL_FOLDER, new_file_name + '_.h5'))\n",
    "    return model"
   ]
  },
  {
   "cell_type": "code",
   "execution_count": 96,
   "metadata": {
    "scrolled": false
   },
   "outputs": [
    {
     "name": "stdout",
     "output_type": "stream",
     "text": [
      "Train on 7613 samples, validate on 3263 samples\n",
      "Epoch 1/1\n",
      "7613/7613 [==============================] - 968s 127ms/step - loss: 0.3794 - acc: 0.8344 - val_loss: 0.5219 - val_acc: 0.7613\n",
      "F1: 0.7081303859123267\n",
      "Train on 7613 samples, validate on 3263 samples\n",
      "Epoch 2/2\n",
      "7613/7613 [==============================] - 996s 131ms/step - loss: 0.3342 - acc: 0.8616 - val_loss: 0.5445 - val_acc: 0.7432\n",
      "F1: 0.6905465288035451\n",
      "Train on 7613 samples, validate on 3263 samples\n",
      "Epoch 3/3\n",
      "7613/7613 [==============================] - 1105s 145ms/step - loss: 0.2835 - acc: 0.8845 - val_loss: 0.5864 - val_acc: 0.7349\n",
      "F1: 0.7024423804609564\n",
      "Train on 7613 samples, validate on 3263 samples\n",
      "Epoch 4/4\n",
      "7613/7613 [==============================] - 1014s 133ms/step - loss: 0.2373 - acc: 0.9042 - val_loss: 0.6555 - val_acc: 0.7318\n",
      "F1: 0.7012632297712531\n",
      "Train on 7613 samples, validate on 3263 samples\n",
      "Epoch 5/5\n",
      "7613/7613 [==============================] - 1120s 147ms/step - loss: 0.1943 - acc: 0.9242 - val_loss: 0.7146 - val_acc: 0.7490\n",
      "F1: 0.6919894697254607\n",
      "Train on 7613 samples, validate on 3263 samples\n",
      "Epoch 6/6\n",
      "7613/7613 [==============================] - 1113s 146ms/step - loss: 0.1684 - acc: 0.9352 - val_loss: 0.7435 - val_acc: 0.7478\n",
      "F1: 0.702995308552869\n",
      "Train on 7613 samples, validate on 3263 samples\n",
      "Epoch 7/7\n",
      "7613/7613 [==============================] - 1133s 149ms/step - loss: 0.1487 - acc: 0.9429 - val_loss: 0.7906 - val_acc: 0.7444\n",
      "F1: 0.67774343122102\n",
      "Train on 7613 samples, validate on 3263 samples\n",
      "Epoch 8/8\n",
      "7613/7613 [==============================] - 983s 129ms/step - loss: 0.1186 - acc: 0.9539 - val_loss: 0.8960 - val_acc: 0.7521\n",
      "F1: 0.6939084373817632\n"
     ]
    }
   ],
   "source": [
    "for i in range(1, 9):\n",
    "    model = train(model, i-1, i)"
   ]
  },
  {
   "cell_type": "code",
   "execution_count": 137,
   "metadata": {
    "scrolled": false
   },
   "outputs": [
    {
     "name": "stdout",
     "output_type": "stream",
     "text": [
      "INFO:tensorflow:Saver not created because there are no variables in the graph to restore\n"
     ]
    },
    {
     "name": "stderr",
     "output_type": "stream",
     "text": [
      "INFO:tensorflow:Saver not created because there are no variables in the graph to restore\n"
     ]
    },
    {
     "name": "stdout",
     "output_type": "stream",
     "text": [
      "3263/3263 [==============================] - 298s 91ms/step\n"
     ]
    }
   ],
   "source": [
    "MODEL_FOLDER = 'ELMo_FC_v2'\n",
    "save_result(best_epoch=6)"
   ]
  },
  {
   "cell_type": "markdown",
   "metadata": {},
   "source": [
    "## Convolution Neural Networks"
   ]
  },
  {
   "cell_type": "markdown",
   "metadata": {},
   "source": [
    "Now let's try to train **Convolution Neural Network** with **Elmo embedding (with Normalization)**"
   ]
  },
  {
   "cell_type": "code",
   "execution_count": 51,
   "metadata": {},
   "outputs": [],
   "source": [
    "def make_elmo_embedding(x):\n",
    "    elmo_module = trf_hub.Module(\"https://tfhub.dev/google/elmo/3\", trainable=True)\n",
    "    embeddings = elmo_module(trf.squeeze(trf.cast(x, trf.string)), signature=\"default\", as_dict=True)[\"elmo\"]\n",
    "    \n",
    "    return embeddings"
   ]
  },
  {
   "cell_type": "code",
   "execution_count": 139,
   "metadata": {},
   "outputs": [],
   "source": [
    "def build_model():\n",
    "    input_text = layers.Input(shape=(None, ), dtype=trf.string)\n",
    "    \n",
    "    elmo_embedding = layers.Lambda(make_elmo_embedding, output_shape=(None, 1024))(input_text)\n",
    "    \n",
    "    word_embedding = BatchNormalization()(elmo_embedding)\n",
    "\n",
    "    x = Conv1D(128, 5, activation='relu')(word_embedding)\n",
    "    x2 = GlobalMaxPooling1D()(x)\n",
    "    x3 = Dense(10, activation='relu')(x2)\n",
    "    \n",
    "    predict = Dense(units = 1, activation='sigmoid')(x3)\n",
    "    \n",
    "    model = Model(inputs=[input_text], outputs=predict)\n",
    "    model.compile(loss='binary_crossentropy', optimizer='adam', metrics=['acc'])\n",
    "  \n",
    "    return model"
   ]
  },
  {
   "cell_type": "code",
   "execution_count": 140,
   "metadata": {},
   "outputs": [
    {
     "name": "stdout",
     "output_type": "stream",
     "text": [
      "INFO:tensorflow:Saver not created because there are no variables in the graph to restore\n"
     ]
    },
    {
     "name": "stderr",
     "output_type": "stream",
     "text": [
      "INFO:tensorflow:Saver not created because there are no variables in the graph to restore\n"
     ]
    }
   ],
   "source": [
    "model = build_model()"
   ]
  },
  {
   "cell_type": "code",
   "execution_count": 141,
   "metadata": {},
   "outputs": [
    {
     "name": "stdout",
     "output_type": "stream",
     "text": [
      "_________________________________________________________________\n",
      "Layer (type)                 Output Shape              Param #   \n",
      "=================================================================\n",
      "input_21 (InputLayer)        (None, None)              0         \n",
      "_________________________________________________________________\n",
      "lambda_21 (Lambda)           (None, None, 1024)        0         \n",
      "_________________________________________________________________\n",
      "batch_normalization_21 (Batc (None, None, 1024)        4096      \n",
      "_________________________________________________________________\n",
      "conv1d_4 (Conv1D)            (None, None, 128)         655488    \n",
      "_________________________________________________________________\n",
      "global_max_pooling1d_2 (Glob (None, 128)               0         \n",
      "_________________________________________________________________\n",
      "dense_48 (Dense)             (None, 10)                1290      \n",
      "_________________________________________________________________\n",
      "dense_49 (Dense)             (None, 1)                 11        \n",
      "=================================================================\n",
      "Total params: 660,885\n",
      "Trainable params: 658,837\n",
      "Non-trainable params: 2,048\n",
      "_________________________________________________________________\n"
     ]
    }
   ],
   "source": [
    "model.summary()"
   ]
  },
  {
   "cell_type": "code",
   "execution_count": 101,
   "metadata": {},
   "outputs": [],
   "source": [
    "MODEL_FOLDER = 'ELMo_Convolution_v1'\n",
    "if os.path.exists(MODEL_FOLDER):\n",
    "    os.removedirs(MODEL_FOLDER)\n",
    "os.mkdir(MODEL_FOLDER)"
   ]
  },
  {
   "cell_type": "code",
   "execution_count": 102,
   "metadata": {},
   "outputs": [],
   "source": [
    "def train(model, init_epoch, end_epoch):\n",
    "    history = model.fit(train_text, train_label, validation_data=(test_text, test_label), initial_epoch = init_epoch, epochs=end_epoch, callbacks=[metrics])\n",
    "    new_folder_name = 'after_' + str(end_epoch) + '_epoch'\n",
    "    os.mkdir(os.path.join(MODEL_FOLDER, new_folder_name))\n",
    "    model.save_weights(os.path.join(MODEL_FOLDER, new_folder_name + '_.h5'))\n",
    "    return model"
   ]
  },
  {
   "cell_type": "code",
   "execution_count": 103,
   "metadata": {
    "scrolled": false
   },
   "outputs": [
    {
     "name": "stdout",
     "output_type": "stream",
     "text": [
      "WARNING:tensorflow:From /Users/elizavetamaslennikova/opt/anaconda3/lib/python3.7/site-packages/tensorflow/python/ops/math_grad.py:102: div (from tensorflow.python.ops.math_ops) is deprecated and will be removed in a future version.\n",
      "Instructions for updating:\n",
      "Deprecated in favor of operator or tf.math.divide.\n"
     ]
    },
    {
     "name": "stderr",
     "output_type": "stream",
     "text": [
      "WARNING:tensorflow:From /Users/elizavetamaslennikova/opt/anaconda3/lib/python3.7/site-packages/tensorflow/python/ops/math_grad.py:102: div (from tensorflow.python.ops.math_ops) is deprecated and will be removed in a future version.\n",
      "Instructions for updating:\n",
      "Deprecated in favor of operator or tf.math.divide.\n"
     ]
    },
    {
     "name": "stdout",
     "output_type": "stream",
     "text": [
      "Train on 7613 samples, validate on 3263 samples\n",
      "Epoch 1/1\n",
      "7613/7613 [==============================] - 942s 124ms/step - loss: 0.4880 - acc: 0.7847 - val_loss: 0.4673 - val_acc: 0.7879\n",
      "F1: 0.7446494464944649\n",
      "Train on 7613 samples, validate on 3263 samples\n",
      "Epoch 2/2\n",
      "7613/7613 [==============================] - 929s 122ms/step - loss: 0.3271 - acc: 0.8534 - val_loss: 0.4990 - val_acc: 0.7867\n",
      "F1: 0.7373584905660376\n",
      "Train on 7613 samples, validate on 3263 samples\n",
      "Epoch 3/3\n",
      "7613/7613 [==============================] - 941s 124ms/step - loss: 0.2473 - acc: 0.8874 - val_loss: 0.5487 - val_acc: 0.7876\n",
      "F1: 0.7251090836969456\n",
      "Train on 7613 samples, validate on 3263 samples\n",
      "Epoch 4/4\n",
      "7613/7613 [==============================] - 956s 126ms/step - loss: 0.1673 - acc: 0.9266 - val_loss: 0.5658 - val_acc: 0.7754\n",
      "F1: 0.7386809269162209\n",
      "Train on 7613 samples, validate on 3263 samples\n",
      "Epoch 5/5\n",
      "7613/7613 [==============================] - 955s 125ms/step - loss: 0.1343 - acc: 0.9398 - val_loss: 0.6560 - val_acc: 0.7827\n",
      "F1: 0.7448722562072688\n",
      "Train on 7613 samples, validate on 3263 samples\n",
      "Epoch 6/6\n",
      "7613/7613 [==============================] - 963s 127ms/step - loss: 0.1061 - acc: 0.9477 - val_loss: 0.7945 - val_acc: 0.7858\n",
      "F1: 0.7341194370483074\n",
      "Train on 7613 samples, validate on 3263 samples\n",
      "Epoch 7/7\n",
      "7613/7613 [==============================] - 965s 127ms/step - loss: 0.1040 - acc: 0.9544 - val_loss: 0.7802 - val_acc: 0.7895\n",
      "F1: 0.7248698438125752\n",
      "Train on 7613 samples, validate on 3263 samples\n",
      "Epoch 8/8\n",
      "7613/7613 [==============================] - 967s 127ms/step - loss: 0.0864 - acc: 0.9637 - val_loss: 0.8549 - val_acc: 0.7974\n",
      "F1: 0.751969981238274\n",
      "Train on 7613 samples, validate on 3263 samples\n",
      "Epoch 9/9\n",
      "7613/7613 [==============================] - 966s 127ms/step - loss: 0.0843 - acc: 0.9632 - val_loss: 1.0502 - val_acc: 0.7934\n",
      "F1: 0.7441154138192861\n",
      "Train on 7613 samples, validate on 3263 samples\n",
      "Epoch 10/10\n",
      "7613/7613 [==============================] - 975s 128ms/step - loss: 0.0828 - acc: 0.9669 - val_loss: 0.9232 - val_acc: 0.7919\n",
      "F1: 0.7389465590157631\n"
     ]
    }
   ],
   "source": [
    "for i in range(1, 11):\n",
    "    model = train(model, i-1, i)"
   ]
  },
  {
   "cell_type": "code",
   "execution_count": 144,
   "metadata": {},
   "outputs": [
    {
     "name": "stdout",
     "output_type": "stream",
     "text": [
      "INFO:tensorflow:Saver not created because there are no variables in the graph to restore\n"
     ]
    },
    {
     "name": "stderr",
     "output_type": "stream",
     "text": [
      "INFO:tensorflow:Saver not created because there are no variables in the graph to restore\n"
     ]
    },
    {
     "name": "stdout",
     "output_type": "stream",
     "text": [
      "3263/3263 [==============================] - 308s 95ms/step\n"
     ]
    }
   ],
   "source": [
    "MODEL_FOLDER = 'ELMo_Convolution_v1'\n",
    "save_result(best_epoch=8)"
   ]
  },
  {
   "cell_type": "markdown",
   "metadata": {},
   "source": [
    "Now let's try to train deeply **Convolution Neural Network** with **Elmo embedding (with Normalization)**"
   ]
  },
  {
   "cell_type": "code",
   "execution_count": 145,
   "metadata": {},
   "outputs": [],
   "source": [
    "def build_model():\n",
    "    input_text = layers.Input(shape=(None, ), dtype=trf.string)\n",
    "    \n",
    "    elmo_embedding = layers.Lambda(make_elmo_embedding, output_shape=(None, 1024))(input_text)\n",
    "    \n",
    "    word_embedding = BatchNormalization()(elmo_embedding)\n",
    "\n",
    "    x = Conv1D(256, 5, activation='relu')(word_embedding)\n",
    "    x2 = MaxPooling1D(3)(x)\n",
    "    x3 = Conv1D(128, 3, activation='relu')(x2)\n",
    "    x4 = GlobalAveragePooling1D()(x3)\n",
    "    x5 = Dropout(0.5)(x4)\n",
    "    \n",
    "    predict = Dense(units = 1, activation='sigmoid')(x5)\n",
    "    \n",
    "    model = Model(inputs=[input_text], outputs=predict)\n",
    "    model.compile(loss='binary_crossentropy', optimizer='adam', metrics=['acc'])\n",
    "  \n",
    "    return model"
   ]
  },
  {
   "cell_type": "code",
   "execution_count": 146,
   "metadata": {},
   "outputs": [
    {
     "name": "stdout",
     "output_type": "stream",
     "text": [
      "INFO:tensorflow:Saver not created because there are no variables in the graph to restore\n"
     ]
    },
    {
     "name": "stderr",
     "output_type": "stream",
     "text": [
      "INFO:tensorflow:Saver not created because there are no variables in the graph to restore\n"
     ]
    }
   ],
   "source": [
    "model = build_model()"
   ]
  },
  {
   "cell_type": "code",
   "execution_count": 147,
   "metadata": {},
   "outputs": [
    {
     "name": "stdout",
     "output_type": "stream",
     "text": [
      "_________________________________________________________________\n",
      "Layer (type)                 Output Shape              Param #   \n",
      "=================================================================\n",
      "input_24 (InputLayer)        (None, None)              0         \n",
      "_________________________________________________________________\n",
      "lambda_24 (Lambda)           (None, None, 1024)        0         \n",
      "_________________________________________________________________\n",
      "batch_normalization_24 (Batc (None, None, 1024)        4096      \n",
      "_________________________________________________________________\n",
      "conv1d_7 (Conv1D)            (None, None, 256)         1310976   \n",
      "_________________________________________________________________\n",
      "max_pooling1d_2 (MaxPooling1 (None, None, 256)         0         \n",
      "_________________________________________________________________\n",
      "conv1d_8 (Conv1D)            (None, None, 128)         98432     \n",
      "_________________________________________________________________\n",
      "global_average_pooling1d_2 ( (None, 128)               0         \n",
      "_________________________________________________________________\n",
      "dropout_2 (Dropout)          (None, 128)               0         \n",
      "_________________________________________________________________\n",
      "dense_54 (Dense)             (None, 1)                 129       \n",
      "=================================================================\n",
      "Total params: 1,413,633\n",
      "Trainable params: 1,411,585\n",
      "Non-trainable params: 2,048\n",
      "_________________________________________________________________\n"
     ]
    }
   ],
   "source": [
    "model.summary()"
   ]
  },
  {
   "cell_type": "code",
   "execution_count": 107,
   "metadata": {},
   "outputs": [],
   "source": [
    "MODEL_FOLDER = 'ELMo_Convolution_v2'\n",
    "if os.path.exists(MODEL_FOLDER):\n",
    "    os.removedirs(MODEL_FOLDER)\n",
    "os.mkdir(MODEL_FOLDER)"
   ]
  },
  {
   "cell_type": "code",
   "execution_count": 108,
   "metadata": {},
   "outputs": [],
   "source": [
    "def train(model, init_epoch, end_epoch):\n",
    "    history = model.fit(train_text, train_label, validation_data=(test_text, test_label), initial_epoch = init_epoch, epochs=end_epoch, callbacks=[metrics])\n",
    "    new_folder_name = 'after_' + str(end_epoch) + '_epoch'\n",
    "    os.mkdir(os.path.join(MODEL_FOLDER, new_folder_name))\n",
    "    model.save_weights(os.path.join(MODEL_FOLDER, new_folder_name + '_.h5'))\n",
    "    return model"
   ]
  },
  {
   "cell_type": "code",
   "execution_count": 109,
   "metadata": {
    "scrolled": false
   },
   "outputs": [
    {
     "name": "stdout",
     "output_type": "stream",
     "text": [
      "Train on 7613 samples, validate on 3263 samples\n",
      "Epoch 1/1\n",
      "7613/7613 [==============================] - 1012s 133ms/step - loss: 0.5274 - acc: 0.7729 - val_loss: 0.4979 - val_acc: 0.7769\n",
      "F1: 0.7031772575250836\n",
      "Train on 7613 samples, validate on 3263 samples\n",
      "Epoch 2/2\n",
      "7613/7613 [==============================] - 980s 129ms/step - loss: 0.4199 - acc: 0.8233 - val_loss: 0.4987 - val_acc: 0.7898\n",
      "F1: 0.7170751973410886\n",
      "Train on 7613 samples, validate on 3263 samples\n",
      "Epoch 3/3\n",
      "7613/7613 [==============================] - 979s 129ms/step - loss: 0.3748 - acc: 0.8484 - val_loss: 0.5339 - val_acc: 0.7536\n",
      "F1: 0.7174066243833687\n",
      "Train on 7613 samples, validate on 3263 samples\n",
      "Epoch 4/4\n",
      "7613/7613 [==============================] - 984s 129ms/step - loss: 0.3347 - acc: 0.8667 - val_loss: 0.5830 - val_acc: 0.7971\n",
      "F1: 0.745917204709457\n",
      "Train on 7613 samples, validate on 3263 samples\n",
      "Epoch 5/5\n",
      "7613/7613 [==============================] - 993s 130ms/step - loss: 0.2829 - acc: 0.8860 - val_loss: 0.6749 - val_acc: 0.7772\n",
      "F1: 0.7441207441207441\n",
      "Train on 7613 samples, validate on 3263 samples\n",
      "Epoch 6/6\n",
      "7613/7613 [==============================] - 992s 130ms/step - loss: 0.2362 - acc: 0.9035 - val_loss: 0.6135 - val_acc: 0.7944\n",
      "F1: 0.740990990990991\n",
      "Train on 7613 samples, validate on 3263 samples\n",
      "Epoch 7/7\n",
      "7613/7613 [==============================] - 988s 130ms/step - loss: 0.1927 - acc: 0.9213 - val_loss: 0.7495 - val_acc: 0.7937\n",
      "F1: 0.75047911077041\n",
      "Train on 7613 samples, validate on 3263 samples\n",
      "Epoch 8/8\n",
      "7613/7613 [==============================] - 992s 130ms/step - loss: 0.1547 - acc: 0.9380 - val_loss: 0.7484 - val_acc: 0.7723\n",
      "F1: 0.719782355227361\n",
      "Train on 7613 samples, validate on 3263 samples\n",
      "Epoch 9/9\n",
      "7613/7613 [==============================] - 989s 130ms/step - loss: 0.1335 - acc: 0.9450 - val_loss: 0.9640 - val_acc: 0.7622\n",
      "F1: 0.7423167848699764\n",
      "Train on 7613 samples, validate on 3263 samples\n",
      "Epoch 10/10\n",
      "7613/7613 [==============================] - 988s 130ms/step - loss: 0.1086 - acc: 0.9528 - val_loss: 0.8870 - val_acc: 0.7852\n",
      "F1: 0.7298761609907122\n"
     ]
    }
   ],
   "source": [
    "for i in range(1, 11):\n",
    "    model = train(model, i-1, i)"
   ]
  },
  {
   "cell_type": "code",
   "execution_count": 148,
   "metadata": {},
   "outputs": [
    {
     "name": "stdout",
     "output_type": "stream",
     "text": [
      "INFO:tensorflow:Saver not created because there are no variables in the graph to restore\n"
     ]
    },
    {
     "name": "stderr",
     "output_type": "stream",
     "text": [
      "INFO:tensorflow:Saver not created because there are no variables in the graph to restore\n"
     ]
    },
    {
     "name": "stdout",
     "output_type": "stream",
     "text": [
      "3263/3263 [==============================] - 299s 92ms/step\n"
     ]
    }
   ],
   "source": [
    "MODEL_FOLDER = 'ELMo_Convolution_v2'\n",
    "save_result(best_epoch=7)"
   ]
  },
  {
   "cell_type": "markdown",
   "metadata": {},
   "source": [
    "## Reccurent Neural Network"
   ]
  },
  {
   "cell_type": "markdown",
   "metadata": {},
   "source": [
    "Let's try to train **Recccurant Neural Network** with **Elmo embedding (with Normalization)** and **Bidirectional LSTM** layer"
   ]
  },
  {
   "cell_type": "code",
   "execution_count": 52,
   "metadata": {},
   "outputs": [],
   "source": [
    "def build_model(): \n",
    "    input_text = layers.Input(shape=(None, ), dtype=trf.string)\n",
    "    \n",
    "    elmo_embedding = layers.Lambda(make_elmo_embedding, output_shape=(None, 1024))(input_text)\n",
    "    \n",
    "    word_embedding = BatchNormalization()(elmo_embedding)\n",
    "    x2 = Bidirectional(LSTM(256, dropout=0.2, recurrent_dropout=0.2))(word_embedding)\n",
    "    predict = Dense(units=1, activation='sigmoid')(x2)\n",
    "\n",
    "\n",
    "    model = Model(inputs=[input_text], outputs=predict)\n",
    "    model.compile(loss='binary_crossentropy', optimizer='adam', metrics=['acc'])\n",
    "  \n",
    "    return model"
   ]
  },
  {
   "cell_type": "code",
   "execution_count": 53,
   "metadata": {
    "scrolled": false
   },
   "outputs": [
    {
     "name": "stdout",
     "output_type": "stream",
     "text": [
      "INFO:tensorflow:Saver not created because there are no variables in the graph to restore\n"
     ]
    },
    {
     "name": "stderr",
     "output_type": "stream",
     "text": [
      "INFO:tensorflow:Saver not created because there are no variables in the graph to restore\n"
     ]
    },
    {
     "name": "stdout",
     "output_type": "stream",
     "text": [
      "WARNING:tensorflow:From /Users/elizavetamaslennikova/opt/anaconda3/lib/python3.7/site-packages/keras/backend/tensorflow_backend.py:3445: calling dropout (from tensorflow.python.ops.nn_ops) with keep_prob is deprecated and will be removed in a future version.\n",
      "Instructions for updating:\n",
      "Please use `rate` instead of `keep_prob`. Rate should be set to `rate = 1 - keep_prob`.\n"
     ]
    },
    {
     "name": "stderr",
     "output_type": "stream",
     "text": [
      "WARNING:tensorflow:From /Users/elizavetamaslennikova/opt/anaconda3/lib/python3.7/site-packages/keras/backend/tensorflow_backend.py:3445: calling dropout (from tensorflow.python.ops.nn_ops) with keep_prob is deprecated and will be removed in a future version.\n",
      "Instructions for updating:\n",
      "Please use `rate` instead of `keep_prob`. Rate should be set to `rate = 1 - keep_prob`.\n"
     ]
    }
   ],
   "source": [
    "model = build_model()"
   ]
  },
  {
   "cell_type": "code",
   "execution_count": 54,
   "metadata": {},
   "outputs": [
    {
     "name": "stdout",
     "output_type": "stream",
     "text": [
      "_________________________________________________________________\n",
      "Layer (type)                 Output Shape              Param #   \n",
      "=================================================================\n",
      "input_2 (InputLayer)         (None, None)              0         \n",
      "_________________________________________________________________\n",
      "lambda_2 (Lambda)            (None, None, 1024)        0         \n",
      "_________________________________________________________________\n",
      "batch_normalization_2 (Batch (None, None, 1024)        4096      \n",
      "_________________________________________________________________\n",
      "bidirectional_1 (Bidirection (None, 512)               2623488   \n",
      "_________________________________________________________________\n",
      "dense_4 (Dense)              (None, 1)                 513       \n",
      "=================================================================\n",
      "Total params: 2,628,097\n",
      "Trainable params: 2,626,049\n",
      "Non-trainable params: 2,048\n",
      "_________________________________________________________________\n"
     ]
    }
   ],
   "source": [
    "model.summary()"
   ]
  },
  {
   "cell_type": "code",
   "execution_count": 113,
   "metadata": {},
   "outputs": [],
   "source": [
    "MODEL_FOLDER = 'ELMo_BiLSTM_v1'\n",
    "if os.path.exists(MODEL_FOLDER):\n",
    "    os.removedirs(MODEL_FOLDER)\n",
    "os.mkdir(MODEL_FOLDER)"
   ]
  },
  {
   "cell_type": "code",
   "execution_count": 114,
   "metadata": {},
   "outputs": [],
   "source": [
    "def train(model, init_epoch, end_epoch):\n",
    "#     TB = TensorBoard(histogram_freq=0)\n",
    "    history = model.fit(train_text, train_label, validation_data=(test_text, test_label), initial_epoch = init_epoch, epochs=end_epoch, callbacks=[metrics])\n",
    "    new_folder_name = 'after_' + str(end_epoch) + '_epoch'\n",
    "    os.mkdir(os.path.join(MODEL_FOLDER, new_folder_name))\n",
    "    model.save_weights(os.path.join(MODEL_FOLDER, new_folder_name + '_.h5'))\n",
    "    return model"
   ]
  },
  {
   "cell_type": "code",
   "execution_count": 115,
   "metadata": {},
   "outputs": [
    {
     "name": "stdout",
     "output_type": "stream",
     "text": [
      "Train on 7613 samples, validate on 3263 samples\n",
      "Epoch 1/1\n",
      "7613/7613 [==============================] - 1060s 139ms/step - loss: 0.4556 - acc: 0.7935 - val_loss: 0.4341 - val_acc: 0.8066\n",
      "F1: 0.7577260587561998\n",
      "Train on 7613 samples, validate on 3263 samples\n",
      "Epoch 2/2\n",
      "7613/7613 [==============================] - 1025s 135ms/step - loss: 0.3294 - acc: 0.8618 - val_loss: 0.4537 - val_acc: 0.8029\n",
      "F1: 0.738244514106583\n",
      "Train on 7613 samples, validate on 3263 samples\n",
      "Epoch 3/3\n",
      "7613/7613 [==============================] - 1039s 136ms/step - loss: 0.2398 - acc: 0.9070 - val_loss: 0.4948 - val_acc: 0.7968\n",
      "F1: 0.748646558391338\n",
      "Train on 7613 samples, validate on 3263 samples\n",
      "Epoch 4/4\n",
      "7613/7613 [==============================] - 1037s 136ms/step - loss: 0.1720 - acc: 0.9391 - val_loss: 0.5551 - val_acc: 0.7888\n",
      "F1: 0.7462467960454047\n",
      "Train on 7613 samples, validate on 3263 samples\n",
      "Epoch 5/5\n",
      "7613/7613 [==============================] - 1029s 135ms/step - loss: 0.1299 - acc: 0.9547 - val_loss: 0.5815 - val_acc: 0.7965\n",
      "F1: 0.7498132935026139\n",
      "Train on 7613 samples, validate on 3263 samples\n",
      "Epoch 6/6\n",
      "7613/7613 [==============================] - 1035s 136ms/step - loss: 0.1037 - acc: 0.9653 - val_loss: 0.6162 - val_acc: 0.7947\n",
      "F1: 0.7531787584143604\n",
      "Train on 7613 samples, validate on 3263 samples\n",
      "Epoch 7/7\n",
      "7613/7613 [==============================] - 1035s 136ms/step - loss: 0.0844 - acc: 0.9711 - val_loss: 0.6729 - val_acc: 0.7968\n",
      "F1: 0.7569367369589345\n",
      "Train on 7613 samples, validate on 3263 samples\n",
      "Epoch 8/8\n",
      "7613/7613 [==============================] - 1040s 137ms/step - loss: 0.0759 - acc: 0.9727 - val_loss: 0.6954 - val_acc: 0.7996\n",
      "F1: 0.752851711026616\n",
      "Train on 7613 samples, validate on 3263 samples\n",
      "Epoch 9/9\n",
      "7613/7613 [==============================] - 1038s 136ms/step - loss: 0.0676 - acc: 0.9749 - val_loss: 0.7344 - val_acc: 0.8036\n",
      "F1: 0.7480190174326465\n",
      "Train on 7613 samples, validate on 3263 samples\n",
      "Epoch 10/10\n",
      "7613/7613 [==============================] - 1183s 155ms/step - loss: 0.0615 - acc: 0.9781 - val_loss: 0.7202 - val_acc: 0.7913\n",
      "F1: 0.7501810282404054\n"
     ]
    }
   ],
   "source": [
    "for i in range(1, 11):\n",
    "    model = train(model, i-1, i)"
   ]
  },
  {
   "cell_type": "code",
   "execution_count": 55,
   "metadata": {},
   "outputs": [
    {
     "name": "stdout",
     "output_type": "stream",
     "text": [
      "INFO:tensorflow:Saver not created because there are no variables in the graph to restore\n"
     ]
    },
    {
     "name": "stderr",
     "output_type": "stream",
     "text": [
      "INFO:tensorflow:Saver not created because there are no variables in the graph to restore\n"
     ]
    },
    {
     "name": "stdout",
     "output_type": "stream",
     "text": [
      "3263/3263 [==============================] - 292s 89ms/step\n"
     ]
    }
   ],
   "source": [
    "MODEL_FOLDER = 'ELMo_BiLSTM_v1'\n",
    "save_result(best_epoch=7)"
   ]
  },
  {
   "cell_type": "markdown",
   "metadata": {},
   "source": [
    "Let's try to train deeply **Recccurant Neural Network** with **Elmo embedding (with Normalization)** and **2 Bidirectional LSTM** layers"
   ]
  },
  {
   "cell_type": "code",
   "execution_count": 56,
   "metadata": {},
   "outputs": [],
   "source": [
    "def build_model(): \n",
    "    input_text = layers.Input(shape=(None, ), dtype=trf.string)\n",
    "    \n",
    "    elmo_embedding = layers.Lambda(make_elmo_embedding, output_shape=(None, 1024))(input_text)\n",
    "    \n",
    "    word_embedding = BatchNormalization()(elmo_embedding)\n",
    "    x = Bidirectional(LSTM(256, dropout=0.2, recurrent_dropout=0.2, return_sequences=True))(word_embedding)\n",
    "    x2 = Bidirectional(LSTM(256, dropout=0.2, recurrent_dropout=0.2))(x)\n",
    "    predict = Dense(units=1, activation='sigmoid')(x2)\n",
    "\n",
    "\n",
    "    model = Model(inputs=[input_text], outputs=predict)\n",
    "    model.compile(loss='binary_crossentropy', optimizer='adam', metrics=['acc'])\n",
    "  \n",
    "    return model"
   ]
  },
  {
   "cell_type": "code",
   "execution_count": 57,
   "metadata": {
    "scrolled": false
   },
   "outputs": [
    {
     "name": "stdout",
     "output_type": "stream",
     "text": [
      "INFO:tensorflow:Saver not created because there are no variables in the graph to restore\n"
     ]
    },
    {
     "name": "stderr",
     "output_type": "stream",
     "text": [
      "INFO:tensorflow:Saver not created because there are no variables in the graph to restore\n"
     ]
    }
   ],
   "source": [
    "model = build_model()"
   ]
  },
  {
   "cell_type": "code",
   "execution_count": 58,
   "metadata": {},
   "outputs": [
    {
     "name": "stdout",
     "output_type": "stream",
     "text": [
      "_________________________________________________________________\n",
      "Layer (type)                 Output Shape              Param #   \n",
      "=================================================================\n",
      "input_4 (InputLayer)         (None, None)              0         \n",
      "_________________________________________________________________\n",
      "lambda_4 (Lambda)            (None, None, 1024)        0         \n",
      "_________________________________________________________________\n",
      "batch_normalization_4 (Batch (None, None, 1024)        4096      \n",
      "_________________________________________________________________\n",
      "bidirectional_3 (Bidirection (None, None, 512)         2623488   \n",
      "_________________________________________________________________\n",
      "bidirectional_4 (Bidirection (None, 512)               1574912   \n",
      "_________________________________________________________________\n",
      "dense_6 (Dense)              (None, 1)                 513       \n",
      "=================================================================\n",
      "Total params: 4,203,009\n",
      "Trainable params: 4,200,961\n",
      "Non-trainable params: 2,048\n",
      "_________________________________________________________________\n"
     ]
    }
   ],
   "source": [
    "model.summary()"
   ]
  },
  {
   "cell_type": "code",
   "execution_count": 119,
   "metadata": {},
   "outputs": [],
   "source": [
    "MODEL_FOLDER = 'ELMo_BiLSTM_v2'\n",
    "if os.path.exists(MODEL_FOLDER):\n",
    "    os.removedirs(MODEL_FOLDER)\n",
    "os.mkdir(MODEL_FOLDER)"
   ]
  },
  {
   "cell_type": "code",
   "execution_count": 120,
   "metadata": {},
   "outputs": [],
   "source": [
    "def train(model, init_epoch, end_epoch):\n",
    "    history = model.fit(train_text, train_label, validation_data=(test_text, test_label), initial_epoch = init_epoch, epochs=end_epoch, callbacks=[metrics])\n",
    "    new_folder_name = 'after_' + str(end_epoch) + '_epoch'\n",
    "    os.mkdir(os.path.join(MODEL_FOLDER, new_folder_name))\n",
    "    model.save_weights(os.path.join(MODEL_FOLDER, new_folder_name + '_.h5'))\n",
    "    return model"
   ]
  },
  {
   "cell_type": "code",
   "execution_count": 121,
   "metadata": {},
   "outputs": [
    {
     "name": "stdout",
     "output_type": "stream",
     "text": [
      "Train on 7613 samples, validate on 3263 samples\n",
      "Epoch 1/1\n",
      "7613/7613 [==============================] - 1298s 171ms/step - loss: 0.4558 - acc: 0.7999 - val_loss: 0.4525 - val_acc: 0.7990\n",
      "F1: 0.7347104090724991\n",
      "Train on 7613 samples, validate on 3263 samples\n",
      "Epoch 2/2\n",
      "7613/7613 [==============================] - 1248s 164ms/step - loss: 0.3573 - acc: 0.8525 - val_loss: 0.4667 - val_acc: 0.7990\n",
      "F1: 0.7353896103896104\n",
      "Train on 7613 samples, validate on 3263 samples\n",
      "Epoch 3/3\n",
      "7613/7613 [==============================] - 1205s 158ms/step - loss: 0.2910 - acc: 0.8824 - val_loss: 0.4953 - val_acc: 0.7864\n",
      "F1: 0.7482439926062846\n",
      "Train on 7613 samples, validate on 3263 samples\n",
      "Epoch 4/4\n",
      "7613/7613 [==============================] - 1287s 169ms/step - loss: 0.2175 - acc: 0.9149 - val_loss: 0.5769 - val_acc: 0.7824\n",
      "F1: 0.7385171790235082\n",
      "Train on 7613 samples, validate on 3263 samples\n",
      "Epoch 5/5\n",
      "7613/7613 [==============================] - 1290s 170ms/step - loss: 0.1730 - acc: 0.9320 - val_loss: 0.6027 - val_acc: 0.7888\n",
      "F1: 0.7161607875307631\n",
      "Train on 7613 samples, validate on 3263 samples\n",
      "Epoch 6/6\n",
      "7613/7613 [==============================] - 1116s 147ms/step - loss: 0.1292 - acc: 0.9473 - val_loss: 0.6844 - val_acc: 0.7898\n",
      "F1: 0.7409616101379054\n",
      "Train on 7613 samples, validate on 3263 samples\n",
      "Epoch 7/7\n",
      "7613/7613 [==============================] - 1123s 147ms/step - loss: 0.1064 - acc: 0.9593 - val_loss: 0.8180 - val_acc: 0.7818\n",
      "F1: 0.7336874051593324\n",
      "Train on 7613 samples, validate on 3263 samples\n",
      "Epoch 8/8\n",
      "7613/7613 [==============================] - 1261s 166ms/step - loss: 0.0910 - acc: 0.9636 - val_loss: 0.8808 - val_acc: 0.7849\n",
      "F1: 0.7395382395382396\n",
      "Train on 7613 samples, validate on 3263 samples\n",
      "Epoch 9/9\n",
      "7613/7613 [==============================] - 14842s 2s/step - loss: 0.0901 - acc: 0.9637 - val_loss: 0.7589 - val_acc: 0.7729\n",
      "F1: 0.7223257547521431\n",
      "Train on 7613 samples, validate on 3263 samples\n",
      "Epoch 10/10\n",
      "7613/7613 [==============================] - 1108s 146ms/step - loss: 0.0806 - acc: 0.9662 - val_loss: 0.7931 - val_acc: 0.7849\n",
      "F1: 0.7407680945347119\n"
     ]
    }
   ],
   "source": [
    "for i in range(1, 11):\n",
    "    model = train(model, i-1, i)"
   ]
  },
  {
   "cell_type": "code",
   "execution_count": 59,
   "metadata": {},
   "outputs": [
    {
     "name": "stdout",
     "output_type": "stream",
     "text": [
      "INFO:tensorflow:Saver not created because there are no variables in the graph to restore\n"
     ]
    },
    {
     "name": "stderr",
     "output_type": "stream",
     "text": [
      "INFO:tensorflow:Saver not created because there are no variables in the graph to restore\n"
     ]
    },
    {
     "name": "stdout",
     "output_type": "stream",
     "text": [
      "3263/3263 [==============================] - 302s 93ms/step\n"
     ]
    }
   ],
   "source": [
    "MODEL_FOLDER = 'ELMo_BiLSTM_v2'\n",
    "save_result(best_epoch=3)"
   ]
  },
  {
   "cell_type": "markdown",
   "metadata": {},
   "source": [
    "Let's try to train deeply **Recccurant Neural Network** with **Elmo embedding (with Normalization)** and **3 Bidirectional LSTM** layers with more neurons"
   ]
  },
  {
   "cell_type": "code",
   "execution_count": 60,
   "metadata": {},
   "outputs": [],
   "source": [
    "def build_model(): \n",
    "    input_text = layers.Input(shape=(None, ), dtype=trf.string)\n",
    "    \n",
    "    elmo_embedding = layers.Lambda(make_elmo_embedding, output_shape=(None, 1024))(input_text)\n",
    "    \n",
    "    word_embedding = BatchNormalization()(elmo_embedding)\n",
    "    x = Bidirectional(LSTM(512, dropout=0.3, recurrent_dropout=0.3, return_sequences=True))(word_embedding)\n",
    "    x2 = Bidirectional(LSTM(256, dropout=0.2, recurrent_dropout=0.2, return_sequences=True))(x)\n",
    "    x3 = Bidirectional(LSTM(128, dropout=0.2, recurrent_dropout=0.2))(x2)\n",
    "    predict = Dense(units=1, activation='sigmoid')(x3)\n",
    "\n",
    "\n",
    "    model = Model(inputs=[input_text], outputs=predict)\n",
    "    model.compile(loss='binary_crossentropy', optimizer='adam', metrics=['acc'])\n",
    "  \n",
    "    return model"
   ]
  },
  {
   "cell_type": "code",
   "execution_count": 61,
   "metadata": {
    "scrolled": false
   },
   "outputs": [
    {
     "name": "stdout",
     "output_type": "stream",
     "text": [
      "INFO:tensorflow:Saver not created because there are no variables in the graph to restore\n"
     ]
    },
    {
     "name": "stderr",
     "output_type": "stream",
     "text": [
      "INFO:tensorflow:Saver not created because there are no variables in the graph to restore\n"
     ]
    }
   ],
   "source": [
    "model = build_model()"
   ]
  },
  {
   "cell_type": "code",
   "execution_count": 62,
   "metadata": {},
   "outputs": [
    {
     "name": "stdout",
     "output_type": "stream",
     "text": [
      "_________________________________________________________________\n",
      "Layer (type)                 Output Shape              Param #   \n",
      "=================================================================\n",
      "input_6 (InputLayer)         (None, None)              0         \n",
      "_________________________________________________________________\n",
      "lambda_6 (Lambda)            (None, None, 1024)        0         \n",
      "_________________________________________________________________\n",
      "batch_normalization_6 (Batch (None, None, 1024)        4096      \n",
      "_________________________________________________________________\n",
      "bidirectional_7 (Bidirection (None, None, 1024)        6295552   \n",
      "_________________________________________________________________\n",
      "bidirectional_8 (Bidirection (None, None, 512)         2623488   \n",
      "_________________________________________________________________\n",
      "bidirectional_9 (Bidirection (None, 256)               656384    \n",
      "_________________________________________________________________\n",
      "dense_8 (Dense)              (None, 1)                 257       \n",
      "=================================================================\n",
      "Total params: 9,579,777\n",
      "Trainable params: 9,577,729\n",
      "Non-trainable params: 2,048\n",
      "_________________________________________________________________\n"
     ]
    }
   ],
   "source": [
    "model.summary()"
   ]
  },
  {
   "cell_type": "code",
   "execution_count": 125,
   "metadata": {},
   "outputs": [],
   "source": [
    "MODEL_FOLDER = 'ELMo_BiLSTM_v3'\n",
    "if os.path.exists(MODEL_FOLDER):\n",
    "    os.removedirs(MODEL_FOLDER)\n",
    "os.mkdir(MODEL_FOLDER)"
   ]
  },
  {
   "cell_type": "code",
   "execution_count": 126,
   "metadata": {},
   "outputs": [],
   "source": [
    "def train(model, init_epoch, end_epoch):\n",
    "    history = model.fit(train_text, train_label, validation_data=(test_text, test_label), initial_epoch = init_epoch, epochs=end_epoch, callbacks=[metrics])\n",
    "    new_folder_name = 'after_' + str(end_epoch) + '_epoch'\n",
    "    os.mkdir(os.path.join(MODEL_FOLDER, new_folder_name))\n",
    "    model.save_weights(os.path.join(MODEL_FOLDER, new_folder_name + '_.h5'))\n",
    "    return model"
   ]
  },
  {
   "cell_type": "code",
   "execution_count": 127,
   "metadata": {},
   "outputs": [
    {
     "name": "stdout",
     "output_type": "stream",
     "text": [
      "Train on 7613 samples, validate on 3263 samples\n",
      "Epoch 1/1\n",
      "7613/7613 [==============================] - 1319s 173ms/step - loss: 0.4567 - acc: 0.7990 - val_loss: 0.4535 - val_acc: 0.7996\n",
      "F1: 0.7347266881028939\n",
      "Train on 7613 samples, validate on 3263 samples\n",
      "Epoch 2/2\n",
      "7613/7613 [==============================] - 1570s 206ms/step - loss: 0.3835 - acc: 0.8380 - val_loss: 0.4769 - val_acc: 0.7962\n",
      "F1: 0.7593466424682396\n",
      "Train on 7613 samples, validate on 3263 samples\n",
      "Epoch 3/3\n",
      "7613/7613 [==============================] - 1363s 179ms/step - loss: 0.3275 - acc: 0.8621 - val_loss: 0.4768 - val_acc: 0.7996\n",
      "F1: 0.7371360191463902\n",
      "Train on 7613 samples, validate on 3263 samples\n",
      "Epoch 4/4\n",
      "7613/7613 [==============================] - 1318s 173ms/step - loss: 0.2601 - acc: 0.8933 - val_loss: 0.5053 - val_acc: 0.7797\n",
      "F1: 0.7372549019607844\n",
      "Train on 7613 samples, validate on 3263 samples\n",
      "Epoch 5/5\n",
      "7613/7613 [==============================] - 1184s 155ms/step - loss: 0.2150 - acc: 0.9141 - val_loss: 0.5949 - val_acc: 0.8014\n",
      "F1: 0.7405940594059407\n",
      "Train on 7613 samples, validate on 3263 samples\n",
      "Epoch 6/6\n",
      "7613/7613 [==============================] - 1118s 147ms/step - loss: 0.1689 - acc: 0.9324 - val_loss: 0.6082 - val_acc: 0.7895\n",
      "F1: 0.7444077741107444\n",
      "Train on 7613 samples, validate on 3263 samples\n",
      "Epoch 7/7\n",
      "7613/7613 [==============================] - 1117s 147ms/step - loss: 0.1372 - acc: 0.9446 - val_loss: 0.6883 - val_acc: 0.7858\n",
      "F1: 0.7295019157088122\n",
      "Train on 7613 samples, validate on 3263 samples\n",
      "Epoch 8/8\n",
      "7613/7613 [==============================] - 1117s 147ms/step - loss: 0.1148 - acc: 0.9538 - val_loss: 0.7168 - val_acc: 0.7904\n",
      "F1: 0.7472051929318427\n",
      "Train on 7613 samples, validate on 3263 samples\n",
      "Epoch 9/9\n",
      "7613/7613 [==============================] - 1117s 147ms/step - loss: 0.1098 - acc: 0.9574 - val_loss: 0.7114 - val_acc: 0.7987\n",
      "F1: 0.7466462246071291\n",
      "Train on 7613 samples, validate on 3263 samples\n",
      "Epoch 10/10\n",
      "7613/7613 [==============================] - 1119s 147ms/step - loss: 0.0936 - acc: 0.9626 - val_loss: 0.8676 - val_acc: 0.7913\n",
      "F1: 0.7457110179184141\n"
     ]
    }
   ],
   "source": [
    "for i in range(1, 11):\n",
    "    model = train(model, i-1, i)"
   ]
  },
  {
   "cell_type": "code",
   "execution_count": 63,
   "metadata": {},
   "outputs": [
    {
     "name": "stdout",
     "output_type": "stream",
     "text": [
      "INFO:tensorflow:Saver not created because there are no variables in the graph to restore\n"
     ]
    },
    {
     "name": "stderr",
     "output_type": "stream",
     "text": [
      "INFO:tensorflow:Saver not created because there are no variables in the graph to restore\n"
     ]
    },
    {
     "name": "stdout",
     "output_type": "stream",
     "text": [
      "3263/3263 [==============================] - 302s 93ms/step\n"
     ]
    }
   ],
   "source": [
    "MODEL_FOLDER = 'ELMo_BiLSTM_v3'\n",
    "save_result(best_epoch=2)"
   ]
  },
  {
   "cell_type": "markdown",
   "metadata": {},
   "source": [
    "## Results"
   ]
  },
  {
   "cell_type": "markdown",
   "metadata": {},
   "source": [
    "As we can see, Recurrent Neural Network with 3 BiLSTM layers showed the best F1-score. That is why we submit this result on the site. But during the training process we saved models' weights and we can reproduce any result."
   ]
  },
  {
   "cell_type": "markdown",
   "metadata": {},
   "source": [
    "### Submittion score of ELMo_BiLSTM_v3 model is:"
   ]
  },
  {
   "cell_type": "markdown",
   "metadata": {},
   "source": [
    "Submition score = 0.77402:\n",
    "<img src=\"result/submit_BiLSTM_v3.png\">\n",
    "Submition score after corrected = 0.77607:\n",
    "<img src=\"result/submit_BiLSTM_v3_cor.png\">"
   ]
  },
  {
   "cell_type": "markdown",
   "metadata": {},
   "source": [
    "# Thank you for attantion to our work!"
   ]
  }
 ],
 "metadata": {
  "kernelspec": {
   "display_name": "Python 3",
   "language": "python",
   "name": "python3"
  },
  "language_info": {
   "codemirror_mode": {
    "name": "ipython",
    "version": 3
   },
   "file_extension": ".py",
   "mimetype": "text/x-python",
   "name": "python",
   "nbconvert_exporter": "python",
   "pygments_lexer": "ipython3",
   "version": "3.7.4"
  }
 },
 "nbformat": 4,
 "nbformat_minor": 2
}
